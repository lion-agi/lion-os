{
 "cells": [
  {
   "cell_type": "markdown",
   "metadata": {},
   "source": [
    "# Agent Forms and Operatives Usage Patterns\n",
    "\n",
    "This notebook demonstrates common usage patterns for the Lion OS agent decision system."
   ]
  },
  {
   "cell_type": "code",
   "execution_count": null,
   "metadata": {},
   "source": [
    "from lion.core.forms.agent_forms import (\n",
    "    SelectiveAgentForm,\n",
    "    CreativeAgentForm, \n",
    "    PlanningAgentForm,\n",
    "    CompositeAgentForm,\n",
    "    AgentDecisionReport\n",
    ")\n",
    "from lion.core.operatives.agent_operatives import (\n",
    "    SelectAgentOperative,\n",
    "    BrainstormAgentOperative,\n",
    "    PlanAgentOperative,\n",
    "    AgentOperativeFactory,\n",
    "    AgentOperativeComposer\n",
    ")"
   ]
  },
  {
   "cell_type": "markdown",
   "metadata": {},
   "source": [
    "## 1. Basic Selection Pattern"
   ]
  },
  {
   "cell_type": "code",
   "execution_count": null,
   "metadata": {},
   "source": [
    "# Using SelectiveAgentForm directly\n",
    "choices = [\"option1\", \"option2\", \"option3\"]\n",
    "form = SelectiveAgentForm(\n",
    "    choices=choices,\n",
    "    max_selections=2,\n",
    "    context={\"goal\": \"Select the best two options\"}\n",
    ")\n",
    "\n",
    "result = await form.execute()\n",
    "print(f\"Selected: {result.selected}\")\n",
    "\n",
    "# Using SelectAgentOperative\n",
    "operative = SelectAgentOperative(\n",
    "    choices=choices,\n",
    "    max_selections=2\n",
    ")\n",
    "operative.extend_context(goal=\"Select the best two options\")\n",
    "\n",
    "result = await operative.execute()\n",
    "print(f\"Selected via operative: {result.selected}\")"
   ]
  },
  {
   "cell_type": "markdown",
   "metadata": {},
   "source": [
    "## 2. Creative Brainstorming Pattern"
   ]
  },
  {
   "cell_type": "code",
   "execution_count": null,
   "metadata": {},
   "source": [
    "# Using CreativeAgentForm with filters\n",
    "form = CreativeAgentForm(\n",
    "    num_ideas=5,\n",
    "    auto_execute=True,\n",
    "    idea_filters=[\"uniqueness\", \"relevance\"],\n",
    "    context={\"topic\": \"AI safety measures\"}\n",
    ")\n",
    "\n",
    "ideas = await form.execute()\n",
    "print(f\"Generated {len(ideas)} unique and relevant ideas\")\n",
    "\n",
    "# Using BrainstormAgentOperative\n",
    "operative = BrainstormAgentOperative(\n",
    "    num_ideas=5,\n",
    "    auto_execute=True\n",
    ")\n",
    "operative.extend_context(topic=\"AI safety measures\")\n",
    "\n",
    "ideas = await operative.execute()\n",
    "print(f\"Generated ideas via operative: {len(ideas)}\")"
   ]
  },
  {
   "cell_type": "markdown",
   "metadata": {},
   "source": [
    "## 3. Planning Pattern with Dependencies"
   ]
  },
  {
   "cell_type": "code",
   "execution_count": null,
   "metadata": {},
   "source": [
    "# Using PlanningAgentForm with dependencies\n",
    "form = PlanningAgentForm(\n",
    "    num_steps=4,\n",
    "    sequential=False,\n",
    "    dependencies={\n",
    "        \"step2\": [\"step1\"],\n",
    "        \"step3\": [\"step1\", \"step2\"],\n",
    "        \"step4\": [\"step3\"]\n",
    "    },\n",
    "    context={\"objective\": \"Build ML pipeline\"}\n",
    ")\n",
    "\n",
    "plan_results = await form.execute()\n",
    "print(\"Plan execution results:\")\n",
    "for result in plan_results:\n",
    "    print(f\"Step {result['step']['id']}: {result['status']}\")"
   ]
  },
  {
   "cell_type": "markdown",
   "metadata": {},
   "source": [
    "## 4. Composite Decision Pattern"
   ]
  },
  {
   "cell_type": "code",
   "execution_count": null,
   "metadata": {},
   "source": [
    "# Create a multi-stage decision process\n",
    "selector = SelectiveAgentForm(\n",
    "    choices=[\"ML\", \"CV\", \"NLP\"],\n",
    "    max_selections=1\n",
    ")\n",
    "\n",
    "brainstormer = CreativeAgentForm(\n",
    "    num_ideas=3,\n",
    "    idea_filters=[\"uniqueness\"]\n",
    ")\n",
    "\n",
    "planner = PlanningAgentForm(\n",
    "    num_steps=3,\n",
    "    sequential=True\n",
    ")\n",
    "\n",
    "composite = CompositeAgentForm(\n",
    "    steps=[selector, brainstormer, planner]\n",
    ")\n",
    "\n",
    "results = await composite.execute()\n",
    "print(\"Composite decision results:\")\n",
    "for stage, result in results.items():\n",
    "    print(f\"{stage}: {result}\")"
   ]
  },
  {
   "cell_type": "markdown",
   "metadata": {},
   "source": [
    "## 5. Factory and Composer Pattern"
   ]
  },
  {
   "cell_type": "code",
   "execution_count": null,
   "metadata": {},
   "source": [
    "# Load operatives from config\n",
    "factory = AgentOperativeFactory.load_config(\"operatives.yaml\")\n",
    "\n",
    "# Create workflow\n",
    "composer = AgentOperativeComposer(factory)\n",
    "\n",
    "composer.add_step(\n",
    "    \"select_domain\",\n",
    "    \"select_options\",\n",
    "    context={\"choices\": [\"ML\", \"CV\", \"NLP\"]}\n",
    ")\n",
    "\n",
    "composer.add_step(\n",
    "    \"generate_ideas\",\n",
    "    \"brainstorm\",\n",
    "    depends_on=[\"select_domain\"],\n",
    "    context_map={\n",
    "        \"domain\": \"select_domain.selected[0]\"\n",
    "    }\n",
    ")\n",
    "\n",
    "composer.add_step(\n",
    "    \"create_plan\",\n",
    "    \"plan\",\n",
    "    depends_on=[\"generate_ideas\"],\n",
    "    context_map={\n",
    "        \"ideas\": \"generate_ideas.instruct_models\"\n",
    "    }\n",
    ")\n",
    "\n",
    "workflow_results = await composer.execute()\n",
    "print(\"Workflow execution results:\")\n",
    "for step, result in workflow_results.items():\n",
    "    print(f\"{step}: {result}\")"
   ]
  },
  {
   "cell_type": "markdown",
   "metadata": {},
   "source": [
    "## 6. Decision Reporting Pattern"
   ]
  },
  {
   "cell_type": "code",
   "execution_count": null,
   "metadata": {},
   "source": [
    "# Track decision outcomes\n",
    "report = AgentDecisionReport()\n",
    "\n",
    "# Add results with metadata\n",
    "report.add_decision_result(\n",
    "    composite,\n",
    "    success=True,\n",
    "    metadata={\"execution_time\": 1.5}\n",
    ")\n",
    "\n",
    "# Get statistics\n",
    "stats = report.get_stage_stats()\n",
    "print(\"Decision statistics:\")\n",
    "for stage, metrics in stats.items():\n",
    "    print(f\"\\n{stage}:\")\n",
    "    print(f\"Success rate: {metrics['success_rate']:.2%}\")\n",
    "    print(f\"Total attempts: {metrics['total_attempts']}\")\n",
    "    if metrics['common_failures']:\n",
    "        print(\"Common failures:\", metrics['common_failures'])"
   ]
  }
 ],
 "metadata": {
  "kernelspec": {
   "display_name": "Python 3",
   "language": "python",
   "name": "python3"
  }
 },
 "nbformat": 4,
 "nbformat_minor": 2
}
