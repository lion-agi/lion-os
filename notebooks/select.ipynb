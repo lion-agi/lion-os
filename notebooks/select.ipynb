{
 "cells": [
  {
   "cell_type": "code",
   "execution_count": 1,
   "metadata": {},
   "outputs": [
    {
     "name": "stdout",
     "output_type": "stream",
     "text": [
      "0.0.2\n"
     ]
    }
   ],
   "source": [
    "from lion import __version__\n",
    "\n",
    "print(__version__)"
   ]
  },
  {
   "cell_type": "code",
   "execution_count": 2,
   "metadata": {},
   "outputs": [],
   "source": [
    "from enum import Enum\n",
    "from pydantic import BaseModel\n",
    "\n",
    "\n",
    "class Ingredient(BaseModel):\n",
    "    name: str\n",
    "    amount: int\n",
    "    unit: str\n",
    "\n",
    "\n",
    "class Food(BaseModel):\n",
    "    name: str\n",
    "    ingredients: list[Ingredient]\n",
    "\n",
    "\n",
    "class Pizza(Food):\n",
    "    diameter: int\n",
    "\n",
    "\n",
    "class ChooseFood(Enum):\n",
    "    PIZZA = Pizza\n",
    "    FOOD = Food\n",
    "    INGREDIENT = Ingredient"
   ]
  },
  {
   "cell_type": "code",
   "execution_count": 3,
   "metadata": {},
   "outputs": [],
   "source": [
    "from lion.operations import select\n",
    "\n",
    "selected, branch = await select(\n",
    "    instruct={\n",
    "        \"instruction\": \"this is a test, choose one\",\n",
    "    },\n",
    "    choices=ChooseFood,\n",
    "    max_num_selections=1,\n",
    "    return_branch=True,\n",
    ")"
   ]
  },
  {
   "cell_type": "code",
   "execution_count": 4,
   "metadata": {},
   "outputs": [
    {
     "data": {
      "text/plain": [
       "{'$defs': {'Ingredient': {'properties': {'name': {'title': 'Name',\n",
       "     'type': 'string'},\n",
       "    'amount': {'title': 'Amount', 'type': 'integer'},\n",
       "    'unit': {'title': 'Unit', 'type': 'string'}},\n",
       "   'required': ['name', 'amount', 'unit'],\n",
       "   'title': 'Ingredient',\n",
       "   'type': 'object'}},\n",
       " 'properties': {'name': {'title': 'Name', 'type': 'string'},\n",
       "  'ingredients': {'items': {'$ref': '#/$defs/Ingredient'},\n",
       "   'title': 'Ingredients',\n",
       "   'type': 'array'},\n",
       "  'diameter': {'title': 'Diameter', 'type': 'integer'}},\n",
       " 'required': ['name', 'ingredients', 'diameter'],\n",
       " 'title': 'Pizza',\n",
       " 'type': 'object'}"
      ]
     },
     "execution_count": 4,
     "metadata": {},
     "output_type": "execute_result"
    }
   ],
   "source": [
    "selected.selected[0].value.model_json_schema()"
   ]
  }
 ],
 "metadata": {
  "kernelspec": {
   "display_name": ".venv",
   "language": "python",
   "name": "python3"
  },
  "language_info": {
   "codemirror_mode": {
    "name": "ipython",
    "version": 3
   },
   "file_extension": ".py",
   "mimetype": "text/x-python",
   "name": "python",
   "nbconvert_exporter": "python",
   "pygments_lexer": "ipython3",
   "version": "3.12.6"
  }
 },
 "nbformat": 4,
 "nbformat_minor": 2
}
