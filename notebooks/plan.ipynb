{
 "cells": [
  {
   "cell_type": "markdown",
   "metadata": {},
   "source": [
    "# Plan Operation Usage Patterns\n",
    "\n",
    "This notebook demonstrates different ways to use the plan operation in Lion."
   ]
  },
  {
   "cell_type": "code",
   "execution_count": 1,
   "metadata": {},
   "outputs": [],
   "source": [
    "from lion.operations import plan\n",
    "from lion import iModel"
   ]
  },
  {
   "cell_type": "markdown",
   "metadata": {},
   "source": [
    "## Basic Usage\n",
    "Simple example of creating and executing a plan"
   ]
  },
  {
   "cell_type": "code",
   "execution_count": 2,
   "metadata": {},
   "outputs": [
    {
     "name": "stdout",
     "output_type": "stream",
     "text": [
      "Planning execution with 5 steps...\n",
      "Initial planning complete. Starting step execution.\n",
      "\n",
      "-----Executing step 1/5\n",
      "Design the API architecture for the customer service agentic system.\n",
      "\n",
      "-----Executing step 2/5\n",
      "Define the API endpoints for key customer service functionalities, such as ticket creation, status u...\n",
      "\n",
      "-----Executing step 3/5\n",
      "Implement the API endpoints using FastAPI.\n",
      "\n",
      "-----Executing step 4/5\n",
      "Integrate necessary authentication and authorization mechanisms into the API.\n",
      "\n",
      "-----Executing step 5/5\n",
      "Conduct thorough testing of the API, including unit and integration tests.\n",
      "\n",
      "All steps completed successfully!\n"
     ]
    }
   ],
   "source": [
    "imodel = iModel(model=\"openai/gpt-4o\")\n",
    "\n",
    "instruct = {\n",
    "    \"instruction\": \"Build a REST API for a customer service agentic system\",\n",
    "    \"context\": \"Using Python and FastAPI\",\n",
    "    \"guidance\": \"plan the steps out, they will be executed sequentially\",\n",
    "}\n",
    "\n",
    "result, session = await plan(\n",
    "    instruct=instruct,\n",
    "    imodel=imodel,\n",
    "    num_steps=5,\n",
    "    auto_run=True,\n",
    "    reason=True,\n",
    "    return_session=True,\n",
    ")"
   ]
  },
  {
   "cell_type": "code",
   "execution_count": 3,
   "metadata": {},
   "outputs": [],
   "source": [
    "from lion.libs.parse import as_readable"
   ]
  },
  {
   "cell_type": "code",
   "execution_count": 4,
   "metadata": {},
   "outputs": [
    {
     "data": {
      "text/plain": [
       "[Instruct(instruction='Design the API architecture for the customer service agentic system.', guidance='Ensure that the architecture follows REST standards and supports scalability.', context='The API must handle requests for different customer service functionalities and integrate with existing customer databases.'),\n",
       " Instruct(instruction='Define the API endpoints for key customer service functionalities, such as ticket creation, status updates, and customer feedback.', guidance='Organize endpoints logically and ensure they cover all necessary operations for a complete customer service process.', context=None),\n",
       " Instruct(instruction='Implement the API endpoints using FastAPI.', guidance=\"Prioritize clear and maintainable code, using FastAPI's features for automatic documentation.\", context=\"Make use of Python's standard libraries and ensure compatibility with Python 3.8 or later.\"),\n",
       " Instruct(instruction='Integrate necessary authentication and authorization mechanisms into the API.', guidance='Use JWT for token-based authentication and ensure endpoint security.', context=None),\n",
       " Instruct(instruction='Conduct thorough testing of the API, including unit and integration tests.', guidance='Ensure test coverage is above 90% and all endpoints work as expected under typical and edge-case scenarios.', context='The testing should consider API response times and handle concurrent requests efficiently.')]"
      ]
     },
     "execution_count": 4,
     "metadata": {},
     "output_type": "execute_result"
    }
   ],
   "source": [
    "result.initial.instruct_models"
   ]
  },
  {
   "cell_type": "code",
   "execution_count": null,
   "metadata": {},
   "outputs": [],
   "source": []
  },
  {
   "cell_type": "code",
   "execution_count": 5,
   "metadata": {},
   "outputs": [
    {
     "data": {
      "text/markdown": [
       "```json\n",
       "{\n",
       "    \"instruct_models\": [\n",
       "        {\n",
       "            \"instruction\": \"Design the API architecture for the customer service agentic system.\",\n",
       "            \"guidance\": \"Ensure that the architecture follows REST standards and supports scalability.\",\n",
       "            \"context\": \"The API must handle requests for different customer service functionalities and integrate with existing customer databases.\"\n",
       "        },\n",
       "        {\n",
       "            \"instruction\": \"Define the API endpoints for key customer service functionalities, such as ticket creation, status updates, and customer feedback.\",\n",
       "            \"guidance\": \"Organize endpoints logically and ensure they cover all necessary operations for a complete customer service process.\",\n",
       "            \"context\": null\n",
       "        },\n",
       "        {\n",
       "            \"instruction\": \"Implement the API endpoints using FastAPI.\",\n",
       "            \"guidance\": \"Prioritize clear and maintainable code, using FastAPI's features for automatic documentation.\",\n",
       "            \"context\": \"Make use of Python's standard libraries and ensure compatibility with Python 3.8 or later.\"\n",
       "        },\n",
       "        {\n",
       "            \"instruction\": \"Integrate necessary authentication and authorization mechanisms into the API.\",\n",
       "            \"guidance\": \"Use JWT for token-based authentication and ensure endpoint security.\",\n",
       "            \"context\": null\n",
       "        },\n",
       "        {\n",
       "            \"instruction\": \"Conduct thorough testing of the API, including unit and integration tests.\",\n",
       "            \"guidance\": \"Ensure test coverage is above 90% and all endpoints work as expected under typical and edge-case scenarios.\",\n",
       "            \"context\": \"The testing should consider API response times and handle concurrent requests efficiently.\"\n",
       "        }\n",
       "    ],\n",
       "    \"reason\": {\n",
       "        \"title\": \"API Development Plan\",\n",
       "        \"content\": \"The plan is structured to cover architectural design, implementation, security, and testing to deliver a robust and scalable customer service API.\",\n",
       "        \"confidence_score\": 0.95\n",
       "    }\n",
       "}\n",
       "```"
      ],
      "text/plain": [
       "<IPython.core.display.Markdown object>"
      ]
     },
     "execution_count": 5,
     "metadata": {},
     "output_type": "execute_result"
    }
   ],
   "source": [
    "from IPython.display import Markdown, display\n",
    "\n",
    "Markdown(as_readable(result.initial, md=True))"
   ]
  },
  {
   "cell_type": "code",
   "execution_count": 6,
   "metadata": {},
   "outputs": [
    {
     "data": {
      "text/plain": [
       "5"
      ]
     },
     "execution_count": 6,
     "metadata": {},
     "output_type": "execute_result"
    }
   ],
   "source": [
    "len(result.plan)"
   ]
  },
  {
   "cell_type": "code",
   "execution_count": 7,
   "metadata": {},
   "outputs": [
    {
     "data": {
      "text/plain": [
       "[Instruct(instruction='Design the API architecture for the customer service agentic system.', guidance='Ensure that the architecture follows REST standards and supports scalability.', context='The API must handle requests for different customer service functionalities and integrate with existing customer databases.'),\n",
       " Instruct(instruction='Define the API endpoints for key customer service functionalities, such as ticket creation, status updates, and customer feedback.', guidance='Organize endpoints logically and ensure they cover all necessary operations for a complete customer service process.', context=None),\n",
       " Instruct(instruction='Implement the API endpoints using FastAPI.', guidance=\"Prioritize clear and maintainable code, using FastAPI's features for automatic documentation.\", context=\"Make use of Python's standard libraries and ensure compatibility with Python 3.8 or later.\"),\n",
       " Instruct(instruction='Integrate necessary authentication and authorization mechanisms into the API.', guidance='Use JWT for token-based authentication and ensure endpoint security.', context=None),\n",
       " Instruct(instruction='Conduct thorough testing of the API, including unit and integration tests.', guidance='Ensure test coverage is above 90% and all endpoints work as expected under typical and edge-case scenarios.', context='The testing should consider API response times and handle concurrent requests efficiently.')]"
      ]
     },
     "execution_count": 7,
     "metadata": {},
     "output_type": "execute_result"
    }
   ],
   "source": [
    "result.plan"
   ]
  },
  {
   "cell_type": "code",
   "execution_count": 8,
   "metadata": {},
   "outputs": [
    {
     "data": {
      "text/markdown": [
       "### Step 1\n",
       "\n"
      ],
      "text/plain": [
       "<IPython.core.display.Markdown object>"
      ]
     },
     "metadata": {},
     "output_type": "display_data"
    },
    {
     "data": {
      "text/markdown": [
       "**Instruction**\n",
       "\n",
       "Design the API architecture for the customer service agentic system."
      ],
      "text/plain": [
       "<IPython.core.display.Markdown object>"
      ]
     },
     "metadata": {},
     "output_type": "display_data"
    },
    {
     "data": {
      "text/markdown": [
       "**Context**\n",
       "\n",
       "The API must handle requests for different customer service functionalities and integrate with existing customer databases."
      ],
      "text/plain": [
       "<IPython.core.display.Markdown object>"
      ]
     },
     "metadata": {},
     "output_type": "display_data"
    },
    {
     "data": {
      "text/markdown": [
       "**Guidance**\n",
       "\n",
       "Ensure that the architecture follows REST standards and supports scalability."
      ],
      "text/plain": [
       "<IPython.core.display.Markdown object>"
      ]
     },
     "metadata": {},
     "output_type": "display_data"
    },
    {
     "data": {
      "text/markdown": [
       "**Response**\n",
       "\n",
       "Designing an API architecture for a customer service agentic system while ensuring it follows REST standards and supports scalability involves several key considerations. Here's a structured approach to achieve this:\n",
       "\n",
       "### **1. API Design Principles**\n",
       "- **REST Fundamentals:** Ensure the use of HTTP methods (GET, POST, PUT, DELETE) appropriately. Use URIs to represent resources, and manage the relationships between them.\n",
       "- **Statelessness:** Each request from a client must contain all the information needed for the server to fulfill that request without relying on a stored context on the server.\n",
       "- **Cacheable:** Provide caching mechanisms to improve performance and scalability. HTTP headers can help control caching.\n",
       "- **Layered System:** Design the API so that a client cannot ordinarily tell whether it is connected directly to the end server or a middle server.\n",
       "- **Uniform Interface:** Ensure there is a consistent interface that allows clients to interact with the service in a consistent manner.\n",
       "\n",
       "### **2. High-Level Architecture Components**\n",
       "- **API Gateway:** Acts as a point of entry for clients, handling requests, authentication, logging, throttling, and routing to the appropriate services.\n",
       "- **Microservices:** Design services around business functionalities such as Customer Information, Service Requests, Ticket Management, etc.\n",
       "- **Database Layer:** Ensure a robust and scalable database architecture that supports both SQL and NoSQL based on the type of data.\n",
       "- **Authentication and Authorization:** Integrate OAuth 2.0 or JWT for secure and scalable authentication and authorization mechanisms.\n",
       "\n",
       "### **3. API Resource Design**\n",
       "Create well-defined endpoints for each resource:\n",
       "\n",
       "1. **Customer Management**\n",
       "   - `GET /customers` - Retrieve all customers\n",
       "   - `GET /customers/{id}` - Retrieve a specific customer\n",
       "   - `POST /customers` - Create a new customer\n",
       "   - `PUT /customers/{id}` - Update customer details\n",
       "   - `DELETE /customers/{id}` - Delete a customer\n",
       "\n",
       "2. **Service Requests**\n",
       "   - `GET /requests` - Retrieve all service requests\n",
       "   - `GET /requests/{id}` - Retrieve a specific service request\n",
       "   - `POST /requests` - Create a new service request\n",
       "   - `PUT /requests/{id}` - Update an existing request\n",
       "   - `DELETE /requests/{id}` - Delete a request\n",
       "\n",
       "3. **Ticket Management**\n",
       "   - `GET /tickets` - List all tickets\n",
       "   - `GET /tickets/{id}` - Get specific ticket details\n",
       "   - `POST /tickets` - Open a new ticket\n",
       "   - `PUT /tickets/{id}` - Update ticket status or details\n",
       "   - `DELETE /tickets/{id}` - Close a ticket\n",
       "\n",
       "4. **Agent Management**\n",
       "   - `GET /agents` - List all agents\n",
       "   - `GET /agents/{id}` - Get specific agent details\n",
       "   - `POST /agents` - Add new agent\n",
       "   - `PUT /agents/{id}` - Update agent details\n",
       "   - `DELETE /agents/{id}` - Remove an agent\n",
       "\n",
       "### **4. Scalability Considerations**\n",
       "- **Horizontal Scaling:** Design for adding more servers to handle increasing load, particularly important for the microservices architecture.\n",
       "- **Load Balancing:** Distribute incoming requests across multiple servers to maintain performance and availability.\n",
       "- **Database Optimization:** Use strategies like sharding, replication, and indexes to support large customer datasets and ensure fast query responses.\n",
       "- **Asynchronous Processing:** Utilize message queues for time-consuming processes to ensure responsiveness.\n",
       "\n",
       "### **5. Monitoring and Logging**\n",
       "- Implement comprehensive logging mechanisms for tracing and troubleshooting.\n",
       "- Use monitoring tools to track API performance, usage patterns, and error rates.\n",
       "\n",
       "### **6. API Documentation**\n",
       "- Provide clear and comprehensive documentation using tools like Swagger/OpenAPI to facilitate understanding and adoption by developers.\n",
       "\n",
       "By following these guidelines, you can design a RESTful API architecture for a customer service system that is robust, scalable, and easy to manage and expand."
      ],
      "text/plain": [
       "<IPython.core.display.Markdown object>"
      ]
     },
     "metadata": {},
     "output_type": "display_data"
    },
    {
     "data": {
      "text/markdown": [
       "---"
      ],
      "text/plain": [
       "<IPython.core.display.Markdown object>"
      ]
     },
     "metadata": {},
     "output_type": "display_data"
    },
    {
     "data": {
      "text/markdown": [
       "### Step 2\n",
       "\n"
      ],
      "text/plain": [
       "<IPython.core.display.Markdown object>"
      ]
     },
     "metadata": {},
     "output_type": "display_data"
    },
    {
     "data": {
      "text/markdown": [
       "**Instruction**\n",
       "\n",
       "Define the API endpoints for key customer service functionalities, such as ticket creation, status updates, and customer feedback."
      ],
      "text/plain": [
       "<IPython.core.display.Markdown object>"
      ]
     },
     "metadata": {},
     "output_type": "display_data"
    },
    {
     "data": {
      "text/markdown": [
       "**Context**\n",
       "\n",
       "None"
      ],
      "text/plain": [
       "<IPython.core.display.Markdown object>"
      ]
     },
     "metadata": {},
     "output_type": "display_data"
    },
    {
     "data": {
      "text/markdown": [
       "**Guidance**\n",
       "\n",
       "Organize endpoints logically and ensure they cover all necessary operations for a complete customer service process."
      ],
      "text/plain": [
       "<IPython.core.display.Markdown object>"
      ]
     },
     "metadata": {},
     "output_type": "display_data"
    },
    {
     "data": {
      "text/markdown": [
       "**Response**\n",
       "\n",
       "To define API endpoints for key customer service functionalities, let's organize the endpoints logically by grouping them according to the core operations typically required in a customer service process. Here's a structured outline of the necessary endpoints:\n",
       "\n",
       "### **1. Ticket Management**\n",
       "These endpoints handle the creation, updating, retrieval, and deletion of tickets:\n",
       "\n",
       "- **Create a Ticket**  \n",
       "  `POST /tickets`\n",
       "  - Request Body: `{ \"customerId\": \"123\", \"issue\": \"Description of the issue\", \"priority\": \"high\" }`\n",
       "  - Description: Initiate a new customer service ticket.\n",
       "\n",
       "- **Get All Tickets**  \n",
       "  `GET /tickets`\n",
       "  - Description: Retrieve a list of all tickets, with optional filters for status, priority, or customer.\n",
       "\n",
       "- **Get a Specific Ticket**  \n",
       "  `GET /tickets/{ticketId}`\n",
       "  - Description: Retrieve detailed information for a single ticket by its ID.\n",
       "\n",
       "- **Update Ticket Status**  \n",
       "  `PUT /tickets/{ticketId}/status`\n",
       "  - Request Body: `{ \"status\": \"resolved\" }`\n",
       "  - Description: Update the status of a ticket (e.g., open, in-progress, resolved).\n",
       "\n",
       "- **Update Ticket Details**  \n",
       "  `PUT /tickets/{ticketId}`\n",
       "  - Request Body: `{ \"issue\": \"Updated description\", \"priority\": \"medium\" }`\n",
       "  - Description: Modify existing ticket details.\n",
       "\n",
       "- **Delete a Ticket**  \n",
       "  `DELETE /tickets/{ticketId}`\n",
       "  - Description: Remove a ticket from the system.\n",
       "\n",
       "### **2. Customer Feedback**\n",
       "Endpoints for managing customer feedback related to the service or resolution of issues:\n",
       "\n",
       "- **Submit Feedback**  \n",
       "  `POST /tickets/{ticketId}/feedback`\n",
       "  - Request Body: `{ \"rating\": 4, \"comments\": \"Great service!\" }`\n",
       "  - Description: Allow customers to submit feedback on their ticket resolution.\n",
       "\n",
       "- **Get Feedback for a Ticket**  \n",
       "  `GET /tickets/{ticketId}/feedback`\n",
       "  - Description: Retrieve feedback submitted for a specific ticket.\n",
       "\n",
       "- **List All Feedback**  \n",
       "  `GET /feedback`\n",
       "  - Description: Obtain a collection of feedback across all tickets, with filters by date, rating, etc.\n",
       "\n",
       "### **3. Customer Management**\n",
       "Operations related to managing customer information:\n",
       "\n",
       "- **Create a Customer**  \n",
       "  `POST /customers`\n",
       "  - Request Body: `{ \"name\": \"John Doe\", \"email\": \"johndoe@example.com\", \"phone\": \"123-456-7890\" }`\n",
       "  - Description: Add a new customer to the system.\n",
       "\n",
       "- **Get All Customers**  \n",
       "  `GET /customers`\n",
       "  - Description: Retrieve a list of all registered customers.\n",
       "\n",
       "- **Get a Specific Customer**  \n",
       "  `GET /customers/{customerId}`\n",
       "  - Description: Retrieve details of a particular customer by ID.\n",
       "\n",
       "- **Update Customer Information**  \n",
       "  `PUT /customers/{customerId}`\n",
       "  - Request Body: `{ \"email\": \"newemail@example.com\", \"phone\": \"987-654-3210\" }`\n",
       "  - Description: Update information for an existing customer.\n",
       "\n",
       "- **Delete a Customer**  \n",
       "  `DELETE /customers/{customerId}`\n",
       "  - Description: Remove a customer record from the system.\n",
       "\n",
       "### **4. Status and Progress Tracking**\n",
       "Endpoints for customers and agents to track the progress of their tickets:\n",
       "\n",
       "- **Get Ticket Status**  \n",
       "  `GET /tickets/{ticketId}/status`\n",
       "  - Description: Check the current status of a ticket.\n",
       "\n",
       "- **List Tickets by Status**  \n",
       "  `GET /tickets/status/{status}`\n",
       "  - Description: Retrieve tickets filtered by a specific status (e.g., open, resolved, pending).\n",
       "\n",
       "### **5. Reporting and Analytics (Optional)**\n",
       "For administrative or management purposes to gather insights:\n",
       "\n",
       "- **Get Ticket Statistics**  \n",
       "  `GET /reports/tickets`\n",
       "  - Description: Obtain statistical insights on tickets, such as counts by status, average resolution time, etc.\n",
       "\n",
       "- **Get Feedback Statistics**  \n",
       "  `GET /reports/feedback`\n",
       "  - Description: Analyze customer feedback trends and average ratings. \n",
       "\n",
       "By organizing these endpoints logically, you ensure that all necessary operations for a complete customer service process are covered. The design aligns with REST principles, making the API intuitive and easy to integrate with existing systems."
      ],
      "text/plain": [
       "<IPython.core.display.Markdown object>"
      ]
     },
     "metadata": {},
     "output_type": "display_data"
    },
    {
     "data": {
      "text/markdown": [
       "---"
      ],
      "text/plain": [
       "<IPython.core.display.Markdown object>"
      ]
     },
     "metadata": {},
     "output_type": "display_data"
    },
    {
     "data": {
      "text/markdown": [
       "### Step 3\n",
       "\n"
      ],
      "text/plain": [
       "<IPython.core.display.Markdown object>"
      ]
     },
     "metadata": {},
     "output_type": "display_data"
    },
    {
     "data": {
      "text/markdown": [
       "**Instruction**\n",
       "\n",
       "Implement the API endpoints using FastAPI."
      ],
      "text/plain": [
       "<IPython.core.display.Markdown object>"
      ]
     },
     "metadata": {},
     "output_type": "display_data"
    },
    {
     "data": {
      "text/markdown": [
       "**Context**\n",
       "\n",
       "Make use of Python's standard libraries and ensure compatibility with Python 3.8 or later."
      ],
      "text/plain": [
       "<IPython.core.display.Markdown object>"
      ]
     },
     "metadata": {},
     "output_type": "display_data"
    },
    {
     "data": {
      "text/markdown": [
       "**Guidance**\n",
       "\n",
       "Prioritize clear and maintainable code, using FastAPI's features for automatic documentation."
      ],
      "text/plain": [
       "<IPython.core.display.Markdown object>"
      ]
     },
     "metadata": {},
     "output_type": "display_data"
    },
    {
     "data": {
      "text/markdown": [
       "**Response**\n",
       "\n",
       "To implement the API endpoints using FastAPI, we will define the endpoints for key customer service functionalities like ticket creation, status updates, and customer feedback. FastAPI provides excellent features for automatic documentation and easy handling of requests.\n",
       "\n",
       "Below is a basic implementation of the API endpoints using FastAPI, with attention to using Python's standard libraries, and ensuring compatibility with Python 3.8 or later:\n",
       "\n",
       "### **1. Setup**\n",
       "\n",
       "First, ensure you have FastAPI and a web server (like Uvicorn) installed. You can install them via pip:\n",
       "\n",
       "```bash\n",
       "pip install fastapi uvicorn\n",
       "```\n",
       "\n",
       "### **2. API Implementation**\n",
       "\n",
       "Here's a basic implementation of the API using FastAPI:\n",
       "\n",
       "```python\n",
       "from fastapi import FastAPI, HTTPException, Path, Query\n",
       "from typing import List, Optional\n",
       "from pydantic import BaseModel\n",
       "\n",
       "app = FastAPI()\n",
       "\n",
       "# In-memory data stores as examples\n",
       "tickets = {}\n",
       "customers = {}\n",
       "\n",
       "# Define Pydantic models for request and response bodies\n",
       "class Ticket(BaseModel):\n",
       "    customer_id: int\n",
       "    issue: str\n",
       "    priority: str\n",
       "\n",
       "class TicketUpdate(BaseModel):\n",
       "    issue: Optional[str] = None\n",
       "    priority: Optional[str] = None\n",
       "\n",
       "class TicketStatusUpdate(BaseModel):\n",
       "    status: str\n",
       "\n",
       "class Customer(BaseModel):\n",
       "    name: str\n",
       "    email: str\n",
       "    phone: str\n",
       "\n",
       "class Feedback(BaseModel):\n",
       "    rating: int\n",
       "    comments: Optional[str] = None\n",
       "\n",
       "### **Ticket Management Endpoints**\n",
       "\n",
       "@app.post(\"/tickets\", response_model=int)\n",
       "async def create_ticket(ticket: Ticket):\n",
       "    ticket_id = len(tickets) + 1\n",
       "    tickets[ticket_id] = ticket.dict()\n",
       "    return ticket_id\n",
       "\n",
       "@app.get(\"/tickets\", response_model=List[dict])\n",
       "async def get_all_tickets():\n",
       "    return [ticket for ticket in tickets.values()]\n",
       "\n",
       "@app.get(\"/tickets/{ticket_id}\", response_model=dict)\n",
       "async def get_ticket(ticket_id: int = Path(..., gt=0)):\n",
       "    ticket = tickets.get(ticket_id)\n",
       "    if not ticket:\n",
       "        raise HTTPException(status_code=404, detail=\"Ticket not found\")\n",
       "    return ticket\n",
       "\n",
       "@app.put(\"/tickets/{ticket_id}\", response_model=dict)\n",
       "async def update_ticket(ticket_id: int, ticket_update: TicketUpdate):\n",
       "    ticket = tickets.get(ticket_id)\n",
       "    if not ticket:\n",
       "        raise HTTPException(status_code=404, detail=\"Ticket not found\")\n",
       "    update_data = ticket_update.dict(exclude_unset=True)\n",
       "    ticket.update(update_data)\n",
       "    tickets[ticket_id] = ticket\n",
       "    return ticket\n",
       "\n",
       "@app.put(\"/tickets/{ticket_id}/status\", response_model=dict)\n",
       "async def update_ticket_status(ticket_id: int, status_update: TicketStatusUpdate):\n",
       "    ticket = tickets.get(ticket_id)\n",
       "    if not ticket:\n",
       "        raise HTTPException(status_code=404, detail=\"Ticket not found\")\n",
       "    ticket['status'] = status_update.status\n",
       "    tickets[ticket_id] = ticket\n",
       "    return ticket\n",
       "\n",
       "@app.delete(\"/tickets/{ticket_id}\", status_code=204)\n",
       "async def delete_ticket(ticket_id: int):\n",
       "    if ticket_id in tickets:\n",
       "        del tickets[ticket_id]\n",
       "    else:\n",
       "        raise HTTPException(status_code=404, detail=\"Ticket not found\")\n",
       "\n",
       "### **Customer Feedback Endpoints**\n",
       "\n",
       "@app.post(\"/tickets/{ticket_id}/feedback\", response_model=dict)\n",
       "async def submit_feedback(ticket_id: int, feedback: Feedback):\n",
       "    ticket = tickets.get(ticket_id)\n",
       "    if not ticket:\n",
       "        raise HTTPException(status_code=404, detail=\"Ticket not found\")\n",
       "    ticket['feedback'] = feedback.dict()\n",
       "    return ticket['feedback']\n",
       "\n",
       "### **Customer Management Endpoints**\n",
       "\n",
       "@app.post(\"/customers\", response_model=int)\n",
       "async def create_customer(customer: Customer):\n",
       "    customer_id = len(customers) + 1\n",
       "    customers[customer_id] = customer.dict()\n",
       "    return customer_id\n",
       "\n",
       "@app.get(\"/customers\", response_model=List[dict])\n",
       "async def get_all_customers():\n",
       "    return [customer for customer in customers.values()]\n",
       "\n",
       "@app.get(\"/customers/{customer_id}\", response_model=dict)\n",
       "async def get_customer(customer_id: int = Path(..., gt=0)):\n",
       "    customer = customers.get(customer_id)\n",
       "    if not customer:\n",
       "        raise HTTPException(status_code=404, detail=\"Customer not found\")\n",
       "    return customer\n",
       "\n",
       "@app.put(\"/customers/{customer_id}\", response_model=dict)\n",
       "async def update_customer(customer_id: int, customer_update: Customer):\n",
       "    customer = customers.get(customer_id)\n",
       "    if not customer:\n",
       "        raise HTTPException(status_code=404, detail=\"Customer not found\")\n",
       "    update_data = customer_update.dict(exclude_unset=True)\n",
       "    customer.update(update_data)\n",
       "    customers[customer_id] = customer\n",
       "    return customer\n",
       "\n",
       "@app.delete(\"/customers/{customer_id}\", status_code=204)\n",
       "async def delete_customer(customer_id: int):\n",
       "    if customer_id in customers:\n",
       "        del customers[customer_id]\n",
       "    else:\n",
       "        raise HTTPException(status_code=404, detail=\"Customer not found\")\n",
       "\n",
       "### **Running the Application**\n",
       "\n",
       "# Run the following command to start the server\n",
       "# uvicorn main:app --reload\n",
       "\n",
       "```\n",
       "\n",
       "### **Notes:**\n",
       "\n",
       "1. **Data Store:** The provided implementation uses in-memory Python dictionaries for storing tickets and customers. In a real-world application, replace these with a persistent database.\n",
       "\n",
       "2. **API Documentation:** FastAPI automatically generates OpenAPI documentation, which can be accessed at `/docs` (Swagger UI) or `/redoc` (ReDoc) when running the server.\n",
       "\n",
       "3. **Path and Query Parameters:** FastAPI supports declarative request handling, making it easy to define path and query parameters with validation.\n",
       "\n",
       "4. **Error Handling:** Basic error handling with `HTTPException` is in place for scenarios like record not found.\n",
       "\n",
       "5. **Pydantic Models:** Utilize Pydantic models for request validation and serialization.\n",
       "\n",
       "This implementation serves as a good starting point for a customer service API using FastAPI, providing a clear, maintainable, and scalable codebase."
      ],
      "text/plain": [
       "<IPython.core.display.Markdown object>"
      ]
     },
     "metadata": {},
     "output_type": "display_data"
    },
    {
     "data": {
      "text/markdown": [
       "---"
      ],
      "text/plain": [
       "<IPython.core.display.Markdown object>"
      ]
     },
     "metadata": {},
     "output_type": "display_data"
    },
    {
     "data": {
      "text/markdown": [
       "### Step 4\n",
       "\n"
      ],
      "text/plain": [
       "<IPython.core.display.Markdown object>"
      ]
     },
     "metadata": {},
     "output_type": "display_data"
    },
    {
     "data": {
      "text/markdown": [
       "**Instruction**\n",
       "\n",
       "Integrate necessary authentication and authorization mechanisms into the API."
      ],
      "text/plain": [
       "<IPython.core.display.Markdown object>"
      ]
     },
     "metadata": {},
     "output_type": "display_data"
    },
    {
     "data": {
      "text/markdown": [
       "**Context**\n",
       "\n",
       "None"
      ],
      "text/plain": [
       "<IPython.core.display.Markdown object>"
      ]
     },
     "metadata": {},
     "output_type": "display_data"
    },
    {
     "data": {
      "text/markdown": [
       "**Guidance**\n",
       "\n",
       "Use JWT for token-based authentication and ensure endpoint security."
      ],
      "text/plain": [
       "<IPython.core.display.Markdown object>"
      ]
     },
     "metadata": {},
     "output_type": "display_data"
    },
    {
     "data": {
      "text/markdown": [
       "**Response**\n",
       "\n",
       "To integrate JWT (JSON Web Tokens) for token-based authentication and ensure endpoint security in a FastAPI application, we need to follow a few key steps. JWT allows you to securely transmit information between parties as a JSON object, which is digitally signed and can be verified. This signature ensures the claims cannot be altered once the token is issued.\n",
       "\n",
       "### **Steps to Integrate JWT Authentication**\n",
       "\n",
       "1. **Install Required Packages:**\n",
       "\n",
       "   You need to have `python-jose` and `passlib` for encoding and decoding JWT tokens and hashing passwords:\n",
       "\n",
       "   ```bash\n",
       "   pip install python-jose[cryptography] passlib[bcrypt]\n",
       "   ```\n",
       "\n",
       "2. **Setup JWT Configuration:**\n",
       "\n",
       "   Define secret keys, expiration time, and algorithms for your JWT tokens:\n",
       "\n",
       "   ```python\n",
       "   SECRET_KEY = \"your_secret_key\"\n",
       "   ALGORITHM = \"HS256\"\n",
       "   ACCESS_TOKEN_EXPIRE_MINUTES = 30\n",
       "   ```\n",
       "\n",
       "3. **Creating a Utility to Handle JWT Operations:**\n",
       "\n",
       "   Write functions to create and verify JWT tokens:\n",
       "\n",
       "   ```python\n",
       "   from datetime import datetime, timedelta\n",
       "   from jose import JWTError, jwt\n",
       "\n",
       "   # Function to create a JWT token\n",
       "   def create_access_token(data: dict, expires_delta: Optional[timedelta] = None):\n",
       "       to_encode = data.copy()\n",
       "       if expires_delta:\n",
       "           expire = datetime.utcnow() + expires_delta\n",
       "       else:\n",
       "           expire = datetime.utcnow() + timedelta(minutes=15)\n",
       "       to_encode.update({\"exp\": expire})\n",
       "       encoded_jwt = jwt.encode(to_encode, SECRET_KEY, algorithm=ALGORITHM)\n",
       "       return encoded_jwt\n",
       "\n",
       "   # Function to verify a JWT token\n",
       "   def verify_token(token: str, credentials_exception):\n",
       "       try:\n",
       "           payload = jwt.decode(token, SECRET_KEY, algorithms=[ALGORITHM])\n",
       "           username: str = payload.get(\"sub\")\n",
       "           if username is None:\n",
       "               raise credentials_exception\n",
       "       except JWTError:\n",
       "           raise credentials_exception\n",
       "       return username\n",
       "   ```\n",
       "\n",
       "4. **User Authentication and Password Hashing:**\n",
       "\n",
       "   Implement password hashing using `passlib` and create mock user data:\n",
       "\n",
       "   ```python\n",
       "   from passlib.context import CryptContext\n",
       "\n",
       "   pwd_context = CryptContext(schemes=[\"bcrypt\"], deprecated=\"auto\")\n",
       "\n",
       "   # Example in-memory user data\n",
       "   fake_users_db = {\n",
       "       \"johndoe\": {\n",
       "           \"username\": \"johndoe\",\n",
       "           \"full_name\": \"John Doe\",\n",
       "           \"email\": \"johndoe@example.com\",\n",
       "           \"hashed_password\": pwd_context.hash(\"secret\"),\n",
       "       }\n",
       "   }\n",
       "\n",
       "   # Function to authenticate a user\n",
       "   def authenticate_user(fake_db, username: str, password: str):\n",
       "       user = fake_db.get(username)\n",
       "       if not user:\n",
       "           return False\n",
       "       if not pwd_context.verify(password, user['hashed_password']):\n",
       "           return False\n",
       "       return user\n",
       "   ```\n",
       "\n",
       "5. **Add JWT Authentication to Your FastAPI Endpoints:**\n",
       "\n",
       "   Configure HTTPBearer and OAuth2 specifications, and secure your endpoints with dependency injection:\n",
       "\n",
       "   ```python\n",
       "   from fastapi.security import OAuth2PasswordBearer, OAuth2PasswordRequestForm\n",
       "   from fastapi import Depends, HTTPException, status\n",
       "\n",
       "   # OAuth2 scheme for retrieving tokens\n",
       "   oauth2_scheme = OAuth2PasswordBearer(tokenUrl=\"token\")\n",
       "\n",
       "   # Dependency for token verification\n",
       "   def get_current_user(token: str = Depends(oauth2_scheme)):\n",
       "       credentials_exception = HTTPException(\n",
       "           status_code=status.HTTP_401_UNAUTHORIZED,\n",
       "           detail=\"Could not validate credentials\",\n",
       "           headers={\"WWW-Authenticate\": \"Bearer\"},\n",
       "       )\n",
       "       return verify_token(token, credentials_exception)\n",
       "\n",
       "   @app.post(\"/token\", response_model=Token)\n",
       "   async def login_for_access_token(form_data: OAuth2PasswordRequestForm = Depends()):\n",
       "       user = authenticate_user(fake_users_db, form_data.username, form_data.password)\n",
       "       if not user:\n",
       "           raise HTTPException(\n",
       "               status_code=status.HTTP_401_UNAUTHORIZED,\n",
       "               detail=\"Incorrect username or password\",\n",
       "               headers={\"WWW-Authenticate\": \"Bearer\"},\n",
       "           )\n",
       "       access_token_expires = timedelta(minutes=ACCESS_TOKEN_EXPIRE_MINUTES)\n",
       "       access_token = create_access_token(\n",
       "           data={\"sub\": user[\"username\"]}, expires_delta=access_token_expires\n",
       "       )\n",
       "       return {\"access_token\": access_token, \"token_type\": \"bearer\"}\n",
       "\n",
       "   # Protect endpoints by requiring authentication\n",
       "   @app.get(\"/users/me\")\n",
       "   async def read_users_me(current_user: dict = Depends(get_current_user)):\n",
       "       return current_user\n",
       "\n",
       "   ```\n",
       "\n",
       "### **Securing Your API**\n",
       "\n",
       "- Secure endpoints like `create_ticket`, `submit_feedback`, and others by adding `Depends(get_current_user)` to ensure only authenticated users can access them.\n",
       "- Customize JWT payload with additional claims as needed and ensure sensitive endpoints validate required user roles or permissions.\n",
       "\n",
       "By following these steps, you integrate JWT-based authentication into your FastAPI application, providing secure token-based access to the endpoints. This ensures your API is both secure and robust, with built-in mechanisms for user authentication and authorization."
      ],
      "text/plain": [
       "<IPython.core.display.Markdown object>"
      ]
     },
     "metadata": {},
     "output_type": "display_data"
    },
    {
     "data": {
      "text/markdown": [
       "---"
      ],
      "text/plain": [
       "<IPython.core.display.Markdown object>"
      ]
     },
     "metadata": {},
     "output_type": "display_data"
    },
    {
     "data": {
      "text/markdown": [
       "### Step 5\n",
       "\n"
      ],
      "text/plain": [
       "<IPython.core.display.Markdown object>"
      ]
     },
     "metadata": {},
     "output_type": "display_data"
    },
    {
     "data": {
      "text/markdown": [
       "**Instruction**\n",
       "\n",
       "Conduct thorough testing of the API, including unit and integration tests."
      ],
      "text/plain": [
       "<IPython.core.display.Markdown object>"
      ]
     },
     "metadata": {},
     "output_type": "display_data"
    },
    {
     "data": {
      "text/markdown": [
       "**Context**\n",
       "\n",
       "The testing should consider API response times and handle concurrent requests efficiently."
      ],
      "text/plain": [
       "<IPython.core.display.Markdown object>"
      ]
     },
     "metadata": {},
     "output_type": "display_data"
    },
    {
     "data": {
      "text/markdown": [
       "**Guidance**\n",
       "\n",
       "Ensure test coverage is above 90% and all endpoints work as expected under typical and edge-case scenarios."
      ],
      "text/plain": [
       "<IPython.core.display.Markdown object>"
      ]
     },
     "metadata": {},
     "output_type": "display_data"
    },
    {
     "data": {
      "text/markdown": [
       "**Response**\n",
       "\n",
       "Conducting thorough testing of an API developed with FastAPI, including unit tests and integration tests, is crucial for ensuring that the API performs as expected under various scenarios. To achieve a high test coverage, consider the following approach:\n",
       "\n",
       "### **1. Testing Frameworks and Tools**\n",
       "\n",
       "- **Pytest:** A framework that makes building simple and scalable test cases easy.\n",
       "- **httpx:** A fully-featured HTTP client for testing HTTP endpoints, inspired by requests.\n",
       "\n",
       "To install these tools, run:\n",
       "\n",
       "```bash\n",
       "pip install pytest httpx\n",
       "```\n",
       "\n",
       "### **2. Structure Your Tests**\n",
       "\n",
       "Organize tests in a `/tests` directory. Split them into unit and integration tests for clarity.\n",
       "\n",
       "```\n",
       "/tests\n",
       "    test_main.py\n",
       "    test_unit.py\n",
       "    test_integration.py\n",
       "```\n",
       "\n",
       "### **3. Testing Setup**\n",
       "\n",
       "Create a file `test_main.py` to set up a test client:\n",
       "\n",
       "```python\n",
       "import pytest\n",
       "from fastapi.testclient import TestClient\n",
       "from main import app\n",
       "\n",
       "client = TestClient(app)\n",
       "```\n",
       "\n",
       "### **4. Define Unit Tests**\n",
       "\n",
       "Test individual components (like utility functions for JWT or user authentication):\n",
       "\n",
       "**Example `test_unit.py`:**\n",
       "\n",
       "```python\n",
       "from your_utils_module import create_access_token, verify_token\n",
       "from datetime import timedelta\n",
       "\n",
       "def test_create_access_token():\n",
       "    # Test if token creation returns a non-empty string\n",
       "    token = create_access_token({\"sub\": \"johndoe\"})\n",
       "    assert token is not None\n",
       "    assert isinstance(token, str)\n",
       "\n",
       "def test_verify_token():\n",
       "    # Test if token verification works\n",
       "    data = {\"sub\": \"johndoe\"}\n",
       "    token = create_access_token(data)\n",
       "    username = verify_token(token, None)\n",
       "    assert username == \"johndoe\"\n",
       "```\n",
       "\n",
       "### **5. Define Integration Tests**\n",
       "\n",
       "Test complete endpoints, simulating real-world scenarios:\n",
       "\n",
       "**Example `test_integration.py`:**\n",
       "\n",
       "```python\n",
       "import pytest\n",
       "from fastapi.testclient import TestClient\n",
       "from main import app\n",
       "\n",
       "client = TestClient(app)\n",
       "\n",
       "def test_create_ticket():\n",
       "    # Assuming the endpoint is authenticated\n",
       "    response = client.post(\n",
       "        \"/token\",\n",
       "        data={\"username\": \"johndoe\", \"password\": \"secret\"}\n",
       "    )\n",
       "    token = response.json()[\"access_token\"]\n",
       "\n",
       "    headers = {\"Authorization\": f\"Bearer {token}\"}\n",
       "    response = client.post(\n",
       "        \"/tickets\",\n",
       "        json={\"customer_id\": 1, \"issue\": \"Problem with service\", \"priority\": \"high\"},\n",
       "        headers=headers\n",
       "    )\n",
       "\n",
       "    assert response.status_code == 200\n",
       "    assert \"ticketId\" in response.json()\n",
       "\n",
       "def test_get_ticket():\n",
       "    response = client.get(\"/tickets/1\")\n",
       "    assert response.status_code == 200\n",
       "    assert response.json() is not None\n",
       "\n",
       "def test_submit_feedback():\n",
       "    # Provide feedback for a ticket\n",
       "    response = client.post(\n",
       "        \"/tickets/1/feedback\",\n",
       "        json={\"rating\": 5, \"comments\": \"Excellent service!\"}\n",
       "    )\n",
       "    assert response.status_code == 200\n",
       "    assert response.json()[\"rating\"] == 5\n",
       "```\n",
       "\n",
       "### **6. Handle Edge Cases**\n",
       "\n",
       "Include tests for scenarios such as invalid input, unauthorized access, and boundary conditions:\n",
       "\n",
       "**Edge Case Test Examples:**\n",
       "\n",
       "```python\n",
       "def test_invalid_token_access():\n",
       "    response = client.get(\"/tickets/1\", headers={\"Authorization\": \"Bearer invalidtoken\"})\n",
       "    assert response.status_code == 401\n",
       "\n",
       "def test_create_ticket_without_auth():\n",
       "    # Attempting to create a ticket without authentication\n",
       "    response = client.post(\"/tickets\", json={\"customer_id\": 1, \"issue\": \"Test\", \"priority\": \"low\"})\n",
       "    assert response.status_code == 401\n",
       "\n",
       "def test_access_nonexistent_ticket():\n",
       "    response = client.get(\"/tickets/99999\")\n",
       "    assert response.status_code == 404\n",
       "```\n",
       "\n",
       "### **7. Measuring Test Coverage**\n",
       "\n",
       "Use `pytest` to run your tests and `pytest-cov` to measure test coverage:\n",
       "\n",
       "```bash\n",
       "pip install pytest-cov\n",
       "pytest --cov=your_code_directory tests/\n",
       "```\n",
       "\n",
       "### **8. Performance Considerations**\n",
       "\n",
       "For performance testing, consider using tools like `locust` or `artillery` to simulate concurrent requests and evaluate response times.\n",
       "\n",
       "By following these steps, you can ensure that your API's test coverage is robust and comprehensive, covering typical usage scenarios as well as edge cases. This will help guarantee that the API performs reliably and efficiently under both usual and edge-case conditions."
      ],
      "text/plain": [
       "<IPython.core.display.Markdown object>"
      ]
     },
     "metadata": {},
     "output_type": "display_data"
    },
    {
     "data": {
      "text/markdown": [
       "---"
      ],
      "text/plain": [
       "<IPython.core.display.Markdown object>"
      ]
     },
     "metadata": {},
     "output_type": "display_data"
    }
   ],
   "source": [
    "for idx, i in enumerate(result.execute):\n",
    "    display(Markdown(f\"### Step {idx+1}\\n\\n\"))\n",
    "    display(Markdown(f\"**Instruction**\\n\\n{i.instruct.instruction}\"))\n",
    "    display(Markdown(f\"**Context**\\n\\n{i.instruct.context}\"))\n",
    "    display(Markdown(f\"**Guidance**\\n\\n{i.instruct.guidance}\"))\n",
    "    display(Markdown(f\"**Response**\\n\\n{i.response}\"))\n",
    "    display(Markdown(\"---\"))"
   ]
  },
  {
   "cell_type": "code",
   "execution_count": 9,
   "metadata": {},
   "outputs": [
    {
     "data": {
      "text/html": [
       "<div>\n",
       "<style scoped>\n",
       "    .dataframe tbody tr th:only-of-type {\n",
       "        vertical-align: middle;\n",
       "    }\n",
       "\n",
       "    .dataframe tbody tr th {\n",
       "        vertical-align: top;\n",
       "    }\n",
       "\n",
       "    .dataframe thead th {\n",
       "        text-align: right;\n",
       "    }\n",
       "</style>\n",
       "<table border=\"1\" class=\"dataframe\">\n",
       "  <thead>\n",
       "    <tr style=\"text-align: right;\">\n",
       "      <th></th>\n",
       "      <th>timestamp</th>\n",
       "      <th>lion_class</th>\n",
       "      <th>role</th>\n",
       "      <th>content</th>\n",
       "      <th>ln_id</th>\n",
       "      <th>sender</th>\n",
       "      <th>recipient</th>\n",
       "      <th>metadata</th>\n",
       "    </tr>\n",
       "  </thead>\n",
       "  <tbody>\n",
       "    <tr>\n",
       "      <th>0</th>\n",
       "      <td>2024-11-15 22:08:39.910256+00:00</td>\n",
       "      <td>Instruction</td>\n",
       "      <td>user</td>\n",
       "      <td>{'context': ['Using Python and FastAPI', {'res...</td>\n",
       "      <td>ao3505a35-cd6-64a65d6-ba740affe6a-ee5b8a71</td>\n",
       "      <td>user</td>\n",
       "      <td>ao1b46646d0-4b4-a3b84-c6df0c77dec-e45b656d</td>\n",
       "      <td>{'last_updated': {'context': 1731708524.351888}}</td>\n",
       "    </tr>\n",
       "    <tr>\n",
       "      <th>1</th>\n",
       "      <td>2024-11-15 22:08:44.351762+00:00</td>\n",
       "      <td>AssistantResponse</td>\n",
       "      <td>assistant</td>\n",
       "      <td>{'assistant_response': '```json\n",
       "{\n",
       "    \"instruc...</td>\n",
       "      <td>ao2507b9b93-be903-4fd269e199f-1-afaedae80d</td>\n",
       "      <td>ao1b46646d0-4b4-a3b84-c6df0c77dec-e45b656d</td>\n",
       "      <td>N/A</td>\n",
       "      <td>{'model_response': {'id': 'chatcmpl-ATymWUkAUY...</td>\n",
       "    </tr>\n",
       "    <tr>\n",
       "      <th>2</th>\n",
       "      <td>2024-11-15 22:08:44.352853+00:00</td>\n",
       "      <td>Instruction</td>\n",
       "      <td>user</td>\n",
       "      <td>{'context': ['The API must handle requests for...</td>\n",
       "      <td>aoee5647bce69-b4522b03a-f7b-ec55-8a119e985</td>\n",
       "      <td>user</td>\n",
       "      <td>ao0bc6952-43a379-84b942c7e1-8811-1de6dffc2</td>\n",
       "      <td>{'last_updated': {'context': 1731708533.561792}}</td>\n",
       "    </tr>\n",
       "    <tr>\n",
       "      <th>3</th>\n",
       "      <td>2024-11-15 22:08:53.561677+00:00</td>\n",
       "      <td>AssistantResponse</td>\n",
       "      <td>assistant</td>\n",
       "      <td>{'assistant_response': 'Designing an API archi...</td>\n",
       "      <td>ao1c974b30e90e6f2bd950-71-d40c-1a-2f76387b</td>\n",
       "      <td>ao0bc6952-43a379-84b942c7e1-8811-1de6dffc2</td>\n",
       "      <td>N/A</td>\n",
       "      <td>{'model_response': {'id': 'chatcmpl-ATyma12rIT...</td>\n",
       "    </tr>\n",
       "    <tr>\n",
       "      <th>4</th>\n",
       "      <td>2024-11-15 22:08:53.566763+00:00</td>\n",
       "      <td>Instruction</td>\n",
       "      <td>user</td>\n",
       "      <td>{'context': [None], 'guidance': 'Organize endp...</td>\n",
       "      <td>aod68e3f8e-f-049c8191e7-092fead-0509b7a4b9</td>\n",
       "      <td>user</td>\n",
       "      <td>ao0bc6952-43a379-84b942c7e1-8811-1de6dffc2</td>\n",
       "      <td>{'last_updated': {'context': 1731708542.371448}}</td>\n",
       "    </tr>\n",
       "    <tr>\n",
       "      <th>5</th>\n",
       "      <td>2024-11-15 22:09:02.371101+00:00</td>\n",
       "      <td>AssistantResponse</td>\n",
       "      <td>assistant</td>\n",
       "      <td>{'assistant_response': 'To define API endpoint...</td>\n",
       "      <td>ao5f2c0d9cc-b-881-42ab0eb26da-35bc1218f8b5</td>\n",
       "      <td>ao0bc6952-43a379-84b942c7e1-8811-1de6dffc2</td>\n",
       "      <td>N/A</td>\n",
       "      <td>{'model_response': {'id': 'chatcmpl-ATymjovJaX...</td>\n",
       "    </tr>\n",
       "    <tr>\n",
       "      <th>6</th>\n",
       "      <td>2024-11-15 22:09:02.374010+00:00</td>\n",
       "      <td>Instruction</td>\n",
       "      <td>user</td>\n",
       "      <td>{'context': ['Make use of Python's standard li...</td>\n",
       "      <td>ao86b983-d6ed5-9c312-79a541f2fef-7bbb8f6ba</td>\n",
       "      <td>user</td>\n",
       "      <td>ao0bc6952-43a379-84b942c7e1-8811-1de6dffc2</td>\n",
       "      <td>{'last_updated': {'context': 1731708553.503849}}</td>\n",
       "    </tr>\n",
       "    <tr>\n",
       "      <th>7</th>\n",
       "      <td>2024-11-15 22:09:13.503534+00:00</td>\n",
       "      <td>AssistantResponse</td>\n",
       "      <td>assistant</td>\n",
       "      <td>{'assistant_response': 'To implement the API e...</td>\n",
       "      <td>ao89842187e01b80103-0081-f-89bc586-28adeee</td>\n",
       "      <td>ao0bc6952-43a379-84b942c7e1-8811-1de6dffc2</td>\n",
       "      <td>N/A</td>\n",
       "      <td>{'model_response': {'id': 'chatcmpl-ATymsd37ka...</td>\n",
       "    </tr>\n",
       "    <tr>\n",
       "      <th>8</th>\n",
       "      <td>2024-11-15 22:09:13.506807+00:00</td>\n",
       "      <td>Instruction</td>\n",
       "      <td>user</td>\n",
       "      <td>{'context': [None], 'guidance': 'Use JWT for t...</td>\n",
       "      <td>aof3b53f5c0ca30214-1e4ec-f9de-3df-651f5354</td>\n",
       "      <td>user</td>\n",
       "      <td>ao0bc6952-43a379-84b942c7e1-8811-1de6dffc2</td>\n",
       "      <td>{'last_updated': {'context': 1731708564.282696}}</td>\n",
       "    </tr>\n",
       "    <tr>\n",
       "      <th>9</th>\n",
       "      <td>2024-11-15 22:09:24.282457+00:00</td>\n",
       "      <td>AssistantResponse</td>\n",
       "      <td>assistant</td>\n",
       "      <td>{'assistant_response': 'To integrate JWT (JSON...</td>\n",
       "      <td>ao6f501943a04e-dc1139a48-4ea1-478-233b1e1c</td>\n",
       "      <td>ao0bc6952-43a379-84b942c7e1-8811-1de6dffc2</td>\n",
       "      <td>N/A</td>\n",
       "      <td>{'model_response': {'id': 'chatcmpl-ATyn32SaSP...</td>\n",
       "    </tr>\n",
       "    <tr>\n",
       "      <th>10</th>\n",
       "      <td>2024-11-15 22:09:24.285711+00:00</td>\n",
       "      <td>Instruction</td>\n",
       "      <td>user</td>\n",
       "      <td>{'context': ['The testing should consider API ...</td>\n",
       "      <td>ao3172c3e356-fe55e8c5-f-1a4d450097-79be6ef</td>\n",
       "      <td>user</td>\n",
       "      <td>ao0bc6952-43a379-84b942c7e1-8811-1de6dffc2</td>\n",
       "      <td>{'last_updated': {'context': 1731708573.293211}}</td>\n",
       "    </tr>\n",
       "    <tr>\n",
       "      <th>11</th>\n",
       "      <td>2024-11-15 22:09:33.293080+00:00</td>\n",
       "      <td>AssistantResponse</td>\n",
       "      <td>assistant</td>\n",
       "      <td>{'assistant_response': 'Conducting thorough te...</td>\n",
       "      <td>aof4794125a31f8-80acddf-832f7-a95c-5993e55</td>\n",
       "      <td>ao0bc6952-43a379-84b942c7e1-8811-1de6dffc2</td>\n",
       "      <td>N/A</td>\n",
       "      <td>{'model_response': {'id': 'chatcmpl-ATynEng0nH...</td>\n",
       "    </tr>\n",
       "  </tbody>\n",
       "</table>\n",
       "</div>"
      ],
      "text/plain": [
       "                          timestamp         lion_class       role  \\\n",
       "0  2024-11-15 22:08:39.910256+00:00        Instruction       user   \n",
       "1  2024-11-15 22:08:44.351762+00:00  AssistantResponse  assistant   \n",
       "2  2024-11-15 22:08:44.352853+00:00        Instruction       user   \n",
       "3  2024-11-15 22:08:53.561677+00:00  AssistantResponse  assistant   \n",
       "4  2024-11-15 22:08:53.566763+00:00        Instruction       user   \n",
       "5  2024-11-15 22:09:02.371101+00:00  AssistantResponse  assistant   \n",
       "6  2024-11-15 22:09:02.374010+00:00        Instruction       user   \n",
       "7  2024-11-15 22:09:13.503534+00:00  AssistantResponse  assistant   \n",
       "8  2024-11-15 22:09:13.506807+00:00        Instruction       user   \n",
       "9  2024-11-15 22:09:24.282457+00:00  AssistantResponse  assistant   \n",
       "10 2024-11-15 22:09:24.285711+00:00        Instruction       user   \n",
       "11 2024-11-15 22:09:33.293080+00:00  AssistantResponse  assistant   \n",
       "\n",
       "                                              content  \\\n",
       "0   {'context': ['Using Python and FastAPI', {'res...   \n",
       "1   {'assistant_response': '```json\n",
       "{\n",
       "    \"instruc...   \n",
       "2   {'context': ['The API must handle requests for...   \n",
       "3   {'assistant_response': 'Designing an API archi...   \n",
       "4   {'context': [None], 'guidance': 'Organize endp...   \n",
       "5   {'assistant_response': 'To define API endpoint...   \n",
       "6   {'context': ['Make use of Python's standard li...   \n",
       "7   {'assistant_response': 'To implement the API e...   \n",
       "8   {'context': [None], 'guidance': 'Use JWT for t...   \n",
       "9   {'assistant_response': 'To integrate JWT (JSON...   \n",
       "10  {'context': ['The testing should consider API ...   \n",
       "11  {'assistant_response': 'Conducting thorough te...   \n",
       "\n",
       "                                         ln_id  \\\n",
       "0   ao3505a35-cd6-64a65d6-ba740affe6a-ee5b8a71   \n",
       "1   ao2507b9b93-be903-4fd269e199f-1-afaedae80d   \n",
       "2   aoee5647bce69-b4522b03a-f7b-ec55-8a119e985   \n",
       "3   ao1c974b30e90e6f2bd950-71-d40c-1a-2f76387b   \n",
       "4   aod68e3f8e-f-049c8191e7-092fead-0509b7a4b9   \n",
       "5   ao5f2c0d9cc-b-881-42ab0eb26da-35bc1218f8b5   \n",
       "6   ao86b983-d6ed5-9c312-79a541f2fef-7bbb8f6ba   \n",
       "7   ao89842187e01b80103-0081-f-89bc586-28adeee   \n",
       "8   aof3b53f5c0ca30214-1e4ec-f9de-3df-651f5354   \n",
       "9   ao6f501943a04e-dc1139a48-4ea1-478-233b1e1c   \n",
       "10  ao3172c3e356-fe55e8c5-f-1a4d450097-79be6ef   \n",
       "11  aof4794125a31f8-80acddf-832f7-a95c-5993e55   \n",
       "\n",
       "                                        sender  \\\n",
       "0                                         user   \n",
       "1   ao1b46646d0-4b4-a3b84-c6df0c77dec-e45b656d   \n",
       "2                                         user   \n",
       "3   ao0bc6952-43a379-84b942c7e1-8811-1de6dffc2   \n",
       "4                                         user   \n",
       "5   ao0bc6952-43a379-84b942c7e1-8811-1de6dffc2   \n",
       "6                                         user   \n",
       "7   ao0bc6952-43a379-84b942c7e1-8811-1de6dffc2   \n",
       "8                                         user   \n",
       "9   ao0bc6952-43a379-84b942c7e1-8811-1de6dffc2   \n",
       "10                                        user   \n",
       "11  ao0bc6952-43a379-84b942c7e1-8811-1de6dffc2   \n",
       "\n",
       "                                     recipient  \\\n",
       "0   ao1b46646d0-4b4-a3b84-c6df0c77dec-e45b656d   \n",
       "1                                          N/A   \n",
       "2   ao0bc6952-43a379-84b942c7e1-8811-1de6dffc2   \n",
       "3                                          N/A   \n",
       "4   ao0bc6952-43a379-84b942c7e1-8811-1de6dffc2   \n",
       "5                                          N/A   \n",
       "6   ao0bc6952-43a379-84b942c7e1-8811-1de6dffc2   \n",
       "7                                          N/A   \n",
       "8   ao0bc6952-43a379-84b942c7e1-8811-1de6dffc2   \n",
       "9                                          N/A   \n",
       "10  ao0bc6952-43a379-84b942c7e1-8811-1de6dffc2   \n",
       "11                                         N/A   \n",
       "\n",
       "                                             metadata  \n",
       "0    {'last_updated': {'context': 1731708524.351888}}  \n",
       "1   {'model_response': {'id': 'chatcmpl-ATymWUkAUY...  \n",
       "2    {'last_updated': {'context': 1731708533.561792}}  \n",
       "3   {'model_response': {'id': 'chatcmpl-ATyma12rIT...  \n",
       "4    {'last_updated': {'context': 1731708542.371448}}  \n",
       "5   {'model_response': {'id': 'chatcmpl-ATymjovJaX...  \n",
       "6    {'last_updated': {'context': 1731708553.503849}}  \n",
       "7   {'model_response': {'id': 'chatcmpl-ATymsd37ka...  \n",
       "8    {'last_updated': {'context': 1731708564.282696}}  \n",
       "9   {'model_response': {'id': 'chatcmpl-ATyn32SaSP...  \n",
       "10   {'last_updated': {'context': 1731708573.293211}}  \n",
       "11  {'model_response': {'id': 'chatcmpl-ATynEng0nH...  "
      ]
     },
     "execution_count": 9,
     "metadata": {},
     "output_type": "execute_result"
    }
   ],
   "source": [
    "session.to_df()"
   ]
  }
 ],
 "metadata": {
  "kernelspec": {
   "display_name": ".venv",
   "language": "python",
   "name": "python3"
  },
  "language_info": {
   "codemirror_mode": {
    "name": "ipython",
    "version": 3
   },
   "file_extension": ".py",
   "mimetype": "text/x-python",
   "name": "python",
   "nbconvert_exporter": "python",
   "pygments_lexer": "ipython3",
   "version": "3.12.6"
  }
 },
 "nbformat": 4,
 "nbformat_minor": 2
}
