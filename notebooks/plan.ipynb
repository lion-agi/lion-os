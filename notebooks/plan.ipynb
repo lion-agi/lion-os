{
 "cells": [
  {
   "cell_type": "markdown",
   "metadata": {},
   "source": [
    "# Plan Operation Usage Patterns\n",
    "\n",
    "This notebook demonstrates different ways to use the plan operation in Lion."
   ]
  },
  {
   "cell_type": "code",
   "execution_count": 1,
   "metadata": {},
   "outputs": [],
   "source": [
    "from lion.operations import plan\n",
    "from lion import iModel"
   ]
  },
  {
   "cell_type": "markdown",
   "metadata": {},
   "source": [
    "## Basic Usage\n",
    "Simple example of creating and executing a plan"
   ]
  },
  {
   "cell_type": "code",
   "execution_count": null,
   "metadata": {},
   "outputs": [],
   "source": [
    "from pydantic import BaseModel\n",
    "\n",
    "\n",
    "class PlanModel(BaseModel):\n",
    "    title: str\n",
    "    motivation: str\n",
    "\n",
    "\n",
    "imodel = iModel(model=\"openai/gpt-4o\")\n",
    "\n",
    "instruct = {\n",
    "    \"instruction\": \"Build a REST API for a customer service agentic system\",\n",
    "    \"context\": \"Using Python and FastAPI\",\n",
    "    \"guidance\": \"plan the steps out, they will be executed sequentially\",\n",
    "}\n",
    "\n",
    "result, session = await plan(\n",
    "    instruct=instruct,\n",
    "    imodel=imodel,\n",
    "    num_instruct=5,\n",
    "    auto_run=True,\n",
    "    reason=True,\n",
    "    operative_model=PlanModel,\n",
    "    return_session=True,\n",
    ")"
   ]
  },
  {
   "cell_type": "code",
   "execution_count": 3,
   "metadata": {},
   "outputs": [
    {
     "data": {
      "text/plain": [
       "6"
      ]
     },
     "execution_count": 3,
     "metadata": {},
     "output_type": "execute_result"
    }
   ],
   "source": [
    "len(result)"
   ]
  },
  {
   "cell_type": "code",
   "execution_count": 4,
   "metadata": {},
   "outputs": [],
   "source": [
    "from lion.libs.parse import as_readable"
   ]
  },
  {
   "cell_type": "code",
   "execution_count": 5,
   "metadata": {},
   "outputs": [
    {
     "data": {
      "text/plain": [
       "[Instruct(instruction='Design the API structure and determine the key resources and endpoints required for the customer service system.', guidance=\"Use industry-standard practices for RESTful API design, ensuring clear separation of resources and defining CRUD operations. Prioritize endpoints like 'customer', 'ticket', 'agent', and 'response'.\", context=\"It's crucial to ensure that the structure supports future scalability and potential integration with existing CRM tools.\"),\n",
       " Instruct(instruction='Implement the REST API using FastAPI framework in Python, creating the defined endpoints and ensuring proper data handling.', guidance=\"Focus on FastAPI's ability to create high-performance and easy-to-implement APIs. Ensure thorough error handling and input validation.\", context='This step requires installation and configuration of FastAPI, along with dependencies such as Pydantic for data validation.'),\n",
       " Instruct(instruction='Develop a data storage solution for managing customer data, service tickets, and agent interactions.', guidance='Choose a database compatible with FastAPI, such as PostgreSQL or MongoDB, and ensure efficient data schema design for scalability and performance.', context='Consider the current data handling capabilities and expected future data volume. Implement connection pooling for database connections.'),\n",
       " Instruct(instruction='Create a comprehensive testing suite for the API operations to ensure reliability and performance.', guidance='Utilize testing frameworks such as Pytest to implement unit tests and integration tests covering all API endpoints and functionalities.', context='The testing phase should simulate real-world usage scenarios and verify compliance with API specifications. Continuous integration tools should be considered for automating tests.'),\n",
       " Instruct(instruction='Deploy the API to a cloud platform and set up monitoring and logging.', guidance='Choose a cloud provider like AWS or Azure, use Docker for containerization, and set up logging and monitoring tools such as Prometheus and Grafana for real-time insights.', context='Ensure the deployment environment supports scalability, security, and high availability. Consider setting up a CI/CD pipeline for automated deployments.')]"
      ]
     },
     "execution_count": 5,
     "metadata": {},
     "output_type": "execute_result"
    }
   ],
   "source": [
    "result[0].instruct_models"
   ]
  },
  {
   "cell_type": "code",
   "execution_count": 6,
   "metadata": {},
   "outputs": [
    {
     "data": {
      "text/markdown": [
       "```json\n",
       "{\n",
       "    \"title\": \"Plan for Building a REST API for Customer Service Agentic System\",\n",
       "    \"motivation\": \"To create a scalable and efficient customer service system allowing seamless interaction between customers and service agents via a REST API.\",\n",
       "    \"instruct_models\": [\n",
       "        {\n",
       "            \"instruction\": \"Design the API structure and determine the key resources and endpoints required for the customer service system.\",\n",
       "            \"guidance\": \"Use industry-standard practices for RESTful API design, ensuring clear separation of resources and defining CRUD operations. Prioritize endpoints like 'customer', 'ticket', 'agent', and 'response'.\",\n",
       "            \"context\": \"It's crucial to ensure that the structure supports future scalability and potential integration with existing CRM tools.\"\n",
       "        },\n",
       "        {\n",
       "            \"instruction\": \"Implement the REST API using FastAPI framework in Python, creating the defined endpoints and ensuring proper data handling.\",\n",
       "            \"guidance\": \"Focus on FastAPI's ability to create high-performance and easy-to-implement APIs. Ensure thorough error handling and input validation.\",\n",
       "            \"context\": \"This step requires installation and configuration of FastAPI, along with dependencies such as Pydantic for data validation.\"\n",
       "        },\n",
       "        {\n",
       "            \"instruction\": \"Develop a data storage solution for managing customer data, service tickets, and agent interactions.\",\n",
       "            \"guidance\": \"Choose a database compatible with FastAPI, such as PostgreSQL or MongoDB, and ensure efficient data schema design for scalability and performance.\",\n",
       "            \"context\": \"Consider the current data handling capabilities and expected future data volume. Implement connection pooling for database connections.\"\n",
       "        },\n",
       "        {\n",
       "            \"instruction\": \"Create a comprehensive testing suite for the API operations to ensure reliability and performance.\",\n",
       "            \"guidance\": \"Utilize testing frameworks such as Pytest to implement unit tests and integration tests covering all API endpoints and functionalities.\",\n",
       "            \"context\": \"The testing phase should simulate real-world usage scenarios and verify compliance with API specifications. Continuous integration tools should be considered for automating tests.\"\n",
       "        },\n",
       "        {\n",
       "            \"instruction\": \"Deploy the API to a cloud platform and set up monitoring and logging.\",\n",
       "            \"guidance\": \"Choose a cloud provider like AWS or Azure, use Docker for containerization, and set up logging and monitoring tools such as Prometheus and Grafana for real-time insights.\",\n",
       "            \"context\": \"Ensure the deployment environment supports scalability, security, and high availability. Consider setting up a CI/CD pipeline for automated deployments.\"\n",
       "        }\n",
       "    ],\n",
       "    \"reason\": {\n",
       "        \"title\": \"Ensuring Robust API Design\",\n",
       "        \"content\": \"This plan is structured to ensure a methodical approach to developing a REST API for a customer service system. By starting with design and ending with deployment, each step builds upon the previous to ensure technical coherence and operational readiness.\",\n",
       "        \"confidence_score\": 0.95\n",
       "    }\n",
       "}\n",
       "```"
      ],
      "text/plain": [
       "<IPython.core.display.Markdown object>"
      ]
     },
     "metadata": {},
     "output_type": "display_data"
    }
   ],
   "source": [
    "# initial step\n",
    "\n",
    "from IPython.display import Markdown\n",
    "\n",
    "display(Markdown(as_readable(result[0], md=True)))"
   ]
  },
  {
   "cell_type": "markdown",
   "metadata": {},
   "source": [
    "(from above plan)\n",
    "\n",
    "\n",
    "\n",
    "Design the architecture of the REST API, specifying the main components such as endpoints, request methods, authentication, and error handling."
   ]
  },
  {
   "cell_type": "code",
   "execution_count": 7,
   "metadata": {},
   "outputs": [
    {
     "data": {
      "text/markdown": [
       "```json\n",
       "{\n",
       "    \"title\": \"API Structure Design for Customer Service System\",\n",
       "    \"motivation\": \"To establish a well-structured and efficient API that supports core operations of a customer service system while allowing for easy scalability and integration with other tools.\",\n",
       "    \"instruct_models\": [\n",
       "        {\n",
       "            \"instruction\": \"Identify and define the key resources and endpoints needed for the customer service API.\",\n",
       "            \"guidance\": \"Focus on creating a RESTful API design with clear separation of concerns. Key resources include 'customer', 'ticket', 'agent', and 'response'. Each resource should support standard CRUD operations, allowing creation, retrieval, update, and deletion of data.\",\n",
       "            \"context\": \"The design should account for potential integration with CRM systems, consider existing workflows, and ensure consistency with modern API standards such as using appropriate HTTP methods and status codes.\"\n",
       "        },\n",
       "        {\n",
       "            \"instruction\": \"Define the data models and relationships between resources.\",\n",
       "            \"guidance\": \"Develop concise and flexible data models that capture essential attributes for each resource. Utilize normalization principles to avoid redundancy and consider using an ORM for managing database interactions.\",\n",
       "            \"context\": \"Understand the current data architecture to ensure compatibility and ease of migration if necessary.\"\n",
       "        },\n",
       "        {\n",
       "            \"instruction\": \"Create a detailed endpoint specification outlining the URI patterns and expected request/response formats.\",\n",
       "            \"guidance\": \"Use a versioning strategy in the URI, such as '/api/v1/', to support future API changes. Docs should include examples of JSON payloads and status codes for each endpoint.\",\n",
       "            \"context\": \"Consider common client-side usage patterns to optimize JSON response sizes and endpoints' design.\"\n",
       "        },\n",
       "        {\n",
       "            \"instruction\": \"Implement error handling and define appropriate HTTP status codes for various scenarios.\",\n",
       "            \"guidance\": \"Adopt a comprehensive error handling strategy that uses standardized error messages and appropriate status codes, such as 400 for bad requests and 404 for not found.\",\n",
       "            \"context\": \"The API will interact with various client applications, so clear and consistent error communication is crucial for debugging and integration.\"\n",
       "        },\n",
       "        {\n",
       "            \"instruction\": \"Draft documentation outlining the API's functionality and usage for developers.\",\n",
       "            \"guidance\": \"Provide thorough documentation with examples, descriptions of each operation, and authentication methods, such as JWT or OAuth.\",\n",
       "            \"context\": \"Good documentation will accelerate the adoption and integration process by developers and stakeholders.\"\n",
       "        }\n",
       "    ],\n",
       "    \"reason\": {\n",
       "        \"title\": \"Strategic API Design Considerations\",\n",
       "        \"content\": \"The outlined plan ensures that all critical aspects of API design—resources, data models, endpoints, error handling, and documentation—are methodically developed. This comprehensive approach will facilitate smooth implementation and future scalability.\",\n",
       "        \"confidence_score\": 0.92\n",
       "    }\n",
       "}\n",
       "```"
      ],
      "text/plain": [
       "<IPython.core.display.Markdown object>"
      ]
     },
     "metadata": {},
     "output_type": "display_data"
    }
   ],
   "source": [
    "display(Markdown(as_readable(result[1], md=True)))"
   ]
  },
  {
   "cell_type": "markdown",
   "metadata": {},
   "source": [
    "Develop the API endpoints for common customer service tasks such as logging a query, status updates, and resolution feedback."
   ]
  },
  {
   "cell_type": "code",
   "execution_count": 8,
   "metadata": {},
   "outputs": [
    {
     "data": {
      "text/markdown": [
       "```json\n",
       "{\n",
       "    \"title\": \"Implementation of REST API using FastAPI\",\n",
       "    \"motivation\": \"To leverage FastAPI’s capabilities to create a high-performance API that ensures data validation and comprehensive error handling for the customer service system.\",\n",
       "    \"instruct_models\": [\n",
       "        {\n",
       "            \"instruction\": \"Set up a new FastAPI project environment and install necessary dependencies including FastAPI and Pydantic.\",\n",
       "            \"guidance\": \"Set up a virtual environment using venv or conda and install FastAPI along with its command-line runner, Uvicorn, for serving the application. Ensure Pydantic is included for data validation.\",\n",
       "            \"context\": \"A proper setup ensures isolation and prevents dependency conflicts which is key for smooth development and testing.\"\n",
       "        },\n",
       "        {\n",
       "            \"instruction\": \"Define API endpoints and implement business logic within them using FastAPI.\",\n",
       "            \"guidance\": \"Create endpoints for the identified resources such as 'customer', 'ticket', 'agent', and 'response'. Use FastAPI’s routing and dependency injection features to organize code and handle requests.\",\n",
       "            \"context\": \"The proper structuring of endpoints allows for organized code and easier maintenance and scaling.\"\n",
       "        },\n",
       "        {\n",
       "            \"instruction\": \"Utilize Pydantic models for request and response data validation.\",\n",
       "            \"guidance\": \"Define Pydantic models to validate incoming data and ensure structured responses. This facilitates clean code and robust error handling.\",\n",
       "            \"context\": \"Data validation is critical to prevent errors and ensure the integrity of operations across different system components.\"\n",
       "        },\n",
       "        {\n",
       "            \"instruction\": \"Implement robust error handling and response management.\",\n",
       "            \"guidance\": \"Use FastAPI’s exception handlers to manage errors. Return clear and meaningful HTTP status codes and error messages for client operations.\",\n",
       "            \"context\": \"Effective error handling contributes to a better client experience by providing informative feedback and facilitates debugging.\"\n",
       "        },\n",
       "        {\n",
       "            \"instruction\": \"Test each endpoint thoroughly to ensure expected behavior and performance.\",\n",
       "            \"guidance\": \"Use testing frameworks like Pytest to create a suite of tests that cover edge cases and standard use cases for all endpoints. Benchmark performance to ensure responsiveness.\",\n",
       "            \"context\": \"Thorough testing ensures the reliability and scalability of the API in production environments.\"\n",
       "        }\n",
       "    ],\n",
       "    \"reason\": {\n",
       "        \"title\": \"Strategic Implementation with FastAPI\",\n",
       "        \"content\": \"The implementation plan is designed to fully utilize FastAPI's strengths while ensuring the API is robust and efficient. Each step incorporates best practices for setting up, developing, and testing to achieve a high-quality product.\",\n",
       "        \"confidence_score\": 0.96\n",
       "    }\n",
       "}\n",
       "```"
      ],
      "text/plain": [
       "<IPython.core.display.Markdown object>"
      ]
     },
     "metadata": {},
     "output_type": "display_data"
    }
   ],
   "source": [
    "display(Markdown(as_readable(result[2], md=True)))"
   ]
  },
  {
   "cell_type": "markdown",
   "metadata": {},
   "source": [
    "Implement input validation and error handling for the API using Pydantic models."
   ]
  },
  {
   "cell_type": "code",
   "execution_count": 9,
   "metadata": {},
   "outputs": [
    {
     "data": {
      "text/markdown": [
       "```json\n",
       "{\n",
       "    \"title\": \"Data Storage Solution for Customer Service System\",\n",
       "    \"motivation\": \"To design a robust and scalable data storage solution that efficiently handles customer data, service tickets, and agent interactions for the customer service system.\",\n",
       "    \"instruct_models\": [\n",
       "        {\n",
       "            \"instruction\": \"Choose a suitable database management system for the project, such as PostgreSQL or MongoDB.\",\n",
       "            \"guidance\": \"Consider factors such as expected data volume, transaction performance, and the need for structured vs. unstructured data handling. PostgreSQL is ideal for relational data with complex queries, whereas MongoDB is suitable for flexible schema designs.\",\n",
       "            \"context\": \"Assess current infrastructure capabilities and potential future requirements to ensure long-term scalability and performance.\"\n",
       "        },\n",
       "        {\n",
       "            \"instruction\": \"Design the database schema focusing on scalability and normalization.\",\n",
       "            \"guidance\": \"Create tables or collections for core entities like customers, tickets, and agents. Use normalization to reduce data redundancy while ensuring schema can handle growth and increased query complexity.\",\n",
       "            \"context\": \"Considering the relationships and interactions between entities, such as customer to ticket, will enable an efficient schema design that supports business operations.\"\n",
       "        },\n",
       "        {\n",
       "            \"instruction\": \"Set up connection pooling to manage database connections efficiently.\",\n",
       "            \"guidance\": \"Implement a connection pooling mechanism to optimize resource usage and improve the API's response time. Libraries such as SQLAlchemy or asyncpg with PostgreSQL can be used to facilitate this.\",\n",
       "            \"context\": \"Connection pooling is critical for systems expecting high concurrency and needing to maintain performance under load.\"\n",
       "        },\n",
       "        {\n",
       "            \"instruction\": \"Implement data access layers and asynchronous query handling.\",\n",
       "            \"guidance\": \"Utilize ORMs like SQLAlchemy for PostgreSQL or ODMs for MongoDB to abstract database interactions. Implement asynchronous database operations to enhance performance, particularly under high-load situations.\",\n",
       "            \"context\": \"Ensure that all data operations are consistent and support system scalability by designing for async operations from the start.\"\n",
       "        },\n",
       "        {\n",
       "            \"instruction\": \"Develop backup and recovery strategies for data integrity and security.\",\n",
       "            \"guidance\": \"Design an automated backup system to protect against data loss. Ensure recovery procedures are in place and regularly tested to maintain data integrity and availability.\",\n",
       "            \"context\": \"Data security and disaster recovery should be top priorities in any data storage planning to ensure business continuity and user trust.\"\n",
       "        }\n",
       "    ],\n",
       "    \"reason\": {\n",
       "        \"title\": \"Strategic Data Storage Planning\",\n",
       "        \"content\": \"This plan provides a structured approach to building a resilient, scalable, and efficient data storage solution that meets the operational needs of the customer service system, focusing on both immediate goals and future demands.\",\n",
       "        \"confidence_score\": 0.94\n",
       "    }\n",
       "}\n",
       "```"
      ],
      "text/plain": [
       "<IPython.core.display.Markdown object>"
      ]
     },
     "metadata": {},
     "output_type": "display_data"
    }
   ],
   "source": [
    "display(Markdown(as_readable(result[3], md=True)))"
   ]
  },
  {
   "cell_type": "markdown",
   "metadata": {},
   "source": [
    "Set up logging and monitoring for the REST API to track usage and performance metrics."
   ]
  },
  {
   "cell_type": "code",
   "execution_count": 10,
   "metadata": {},
   "outputs": [
    {
     "data": {
      "text/markdown": [
       "```json\n",
       "{\n",
       "    \"title\": \"Comprehensive Testing Suite for API Operations\",\n",
       "    \"motivation\": \"To ensure the API functions correctly, meets specified requirements, and performs well under expected workload by implementing a rigorous test suite.\",\n",
       "    \"instruct_models\": [\n",
       "        {\n",
       "            \"instruction\": \"Set up the testing environment and configure necessary dependencies.\",\n",
       "            \"guidance\": \"Use virtual environments and install testing frameworks like Pytest and coverage tools. Ensure the environment mirrors production settings to catch configuration-specific issues.\",\n",
       "            \"context\": \"A well-configured environment ensures that tests reflect real-world scenarios and can easily integrate into continuous integration pipelines.\"\n",
       "        },\n",
       "        {\n",
       "            \"instruction\": \"Develop unit tests for individual components of the API.\",\n",
       "            \"guidance\": \"Write tests that cover each function and class method, focusing on expected input and output. Mock external dependencies to isolate unit functionality.\",\n",
       "            \"context\": \"Unit tests help catch bugs early in the development process by validating the smallest testable parts of an application in isolation.\"\n",
       "        },\n",
       "        {\n",
       "            \"instruction\": \"Create integration tests to verify interactions between components.\",\n",
       "            \"guidance\": \"Test the interaction between the API endpoints and the database. Ensure data is processed correctly from input validation to database storage and retrieval.\",\n",
       "            \"context\": \"Integration tests will confirm that the components work together as expected, particularly focusing on data flow and processing within the whole system.\"\n",
       "        },\n",
       "        {\n",
       "            \"instruction\": \"Simulate real-world usage scenarios and conduct performance testing.\",\n",
       "            \"guidance\": \"Use test data and load testing tools like Locust or JMeter to simulate concurrent users and API calls under load. Monitor performance metrics to identify bottlenecks.\",\n",
       "            \"context\": \"Performance testing ensures that the API can handle the required workload and remains responsive under peak usage conditions.\"\n",
       "        },\n",
       "        {\n",
       "            \"instruction\": \"Integrate tests into a continuous integration/continuous deployment (CI/CD) pipeline.\",\n",
       "            \"guidance\": \"Use CI/CD tools such as Jenkins, Travis CI, or GitHub Actions to automate the running of test suites upon code commits and prior to deployment.\",\n",
       "            \"context\": \"Automated testing in a CI/CD pipeline helps maintain code quality, facilitates early bug detection, and supports agile development practices.\"\n",
       "        }\n",
       "    ],\n",
       "    \"reason\": {\n",
       "        \"title\": \"Ensuring API Reliability Through Rigorous Testing\",\n",
       "        \"content\": \"The testing plan ensures comprehensive coverage from unit to integration and performance testing, integrating with CI/CD to facilitate ongoing quality assurance and system reliability.\",\n",
       "        \"confidence_score\": 0.97\n",
       "    }\n",
       "}\n",
       "```"
      ],
      "text/plain": [
       "<IPython.core.display.Markdown object>"
      ]
     },
     "metadata": {},
     "output_type": "display_data"
    }
   ],
   "source": [
    "display(Markdown(as_readable(result[4], md=True)))"
   ]
  },
  {
   "cell_type": "markdown",
   "metadata": {},
   "source": [
    "Deploy the API to a cloud provider and ensure it is scalable and available to handle customer service requests."
   ]
  },
  {
   "cell_type": "code",
   "execution_count": null,
   "metadata": {},
   "outputs": [
    {
     "data": {
      "text/markdown": [
       "```json\n",
       "{\n",
       "    \"title\": \"Deployment and Monitoring Setup for API\",\n",
       "    \"motivation\": \"To safely and efficiently deploy the API on a cloud platform ensuring scalability, security, and high availability while providing real-time operational insights through monitoring and logging.\",\n",
       "    \"instruct_models\": [\n",
       "        {\n",
       "            \"instruction\": \"Select an appropriate cloud provider such as AWS or Azure for API deployment.\",\n",
       "            \"guidance\": \"Evaluate the service offerings, global reach, and integration capabilities with existing tools offered by cloud providers. Consider AWS Elastic Beanstalk or Azure App Service for managed application environments.\",\n",
       "            \"context\": \"The chosen provider should align with the organization's existing infrastructure, future scaling needs, and compliance requirements.\"\n",
       "        },\n",
       "        {\n",
       "            \"instruction\": \"Containerize the API using Docker for consistent deployment across environments.\",\n",
       "            \"guidance\": \"Create a Dockerfile to define the application’s environment and dependencies. Use Docker Compose if the application involves multiple services.\",\n",
       "            \"context\": \"Containerization facilitates repeatable and reliable deployment processes, simplifying environment management and application scaling.\"\n",
       "        },\n",
       "        {\n",
       "            \"instruction\": \"Deploy the containerized application to the chosen cloud platform.\",\n",
       "            \"guidance\": \"Use cloud services like AWS ECS or Azure Kubernetes Service to orchestrate the deployment of the application containers, ensuring load balancing and automatic scaling configurations.\",\n",
       "            \"context\": \"Proper deployment setup should handle varying levels of demand and provide a fault-tolerant architecture.\"\n",
       "        },\n",
       "        {\n",
       "            \"instruction\": \"Set up monitoring and logging infrastructure using tools like Prometheus and Grafana.\",\n",
       "            \"guidance\": \"Deploy Prometheus for collecting performance metrics, and Grafana for visualizing these metrics. Integrate logging solutions like AWS CloudWatch or Azure Monitor for centralized log management.\",\n",
       "            \"context\": \"Monitoring and logging are crucial for tracking application performance, detecting anomalies, and aiding in debugging and compliance auditing.\"\n",
       "        },\n",
       "        {\n",
       "            \"instruction\": \"Configure a CI/CD pipeline to automate the deployment process.\",\n",
       "            \"guidance\": \"Use CI/CD tools such as Jenkins, GitHub Actions, or AWS CodePipeline to automate testing and deployment processes, ensuring fast and reliable updates.\",\n",
       "            \"context\": \"Automation in deployment speeds up release cycles, reduces human errors, and ensures consistent quality by integrating testing into the deployment pipeline.\"\n",
       "        }\n",
       "    ],\n",
       "    \"reason\": {\n",
       "        \"title\": \"Comprehensive Deployment Strategy with Monitoring\",\n",
       "        \"content\": \"This deployment plan ensures that the API is robustly deployed on a cloud platform with considerations for scalability, security, and high availability. Additionally, monitoring and logging provide insights and facilitate the maintenance and improvement of the system.\",\n",
       "        \"confidence_score\": 0.95\n",
       "    }\n",
       "}\n",
       "```"
      ],
      "text/plain": [
       "<IPython.core.display.Markdown object>"
      ]
     },
     "metadata": {},
     "output_type": "display_data"
    }
   ],
   "source": [
    "display(Markdown(as_readable(result[5], md=True)))"
   ]
  },
  {
   "cell_type": "code",
   "execution_count": 12,
   "metadata": {},
   "outputs": [],
   "source": [
    "from lion.libs.parse import to_flat_list\n",
    "\n",
    "all_steps = []\n",
    "for i in result:\n",
    "    if hasattr(i, \"instruct_models\"):\n",
    "        instructs = to_flat_list(i.instruct_models, dropna=True, unique=True)\n",
    "        all_steps.extend(i.instruct_models)"
   ]
  },
  {
   "cell_type": "code",
   "execution_count": 13,
   "metadata": {},
   "outputs": [
    {
     "data": {
      "text/plain": [
       "30"
      ]
     },
     "execution_count": 13,
     "metadata": {},
     "output_type": "execute_result"
    }
   ],
   "source": [
    "len(all_steps)"
   ]
  },
  {
   "cell_type": "code",
   "execution_count": 15,
   "metadata": {},
   "outputs": [
    {
     "data": {
      "text/plain": [
       "Instruct(instruction='Design the API structure and determine the key resources and endpoints required for the customer service system.', guidance=\"Use industry-standard practices for RESTful API design, ensuring clear separation of resources and defining CRUD operations. Prioritize endpoints like 'customer', 'ticket', 'agent', and 'response'.\", context=\"It's crucial to ensure that the structure supports future scalability and potential integration with existing CRM tools.\")"
      ]
     },
     "execution_count": 15,
     "metadata": {},
     "output_type": "execute_result"
    }
   ],
   "source": [
    "all_steps[0]"
   ]
  },
  {
   "cell_type": "code",
   "execution_count": null,
   "metadata": {},
   "outputs": [],
   "source": []
  },
  {
   "cell_type": "code",
   "execution_count": 17,
   "metadata": {},
   "outputs": [
    {
     "data": {
      "text/plain": [
       "\"To design a RESTful API for a customer service system, we need to outline the key resources and endpoints, ensuring scalability and integration with existing CRM tools. Following industry-standard practices, we'll define the resources and CRUD operations clearly. Here's a proposed structure for the API:\\n\\n### Key Resources and Endpoints\\n\\n1. **Customer**\\n    - **GET /customers**: Retrieve a list of all customers.\\n    - **GET /customers/{customerId}**: Retrieve details of a specific customer.\\n    - **POST /customers**: Create a new customer.\\n    - **PUT /customers/{customerId}**: Update details of an existing customer.\\n    - **DELETE /customers/{customerId}**: Delete a specific customer.\\n\\n2. **Ticket**\\n    - **GET /tickets**: Retrieve a list of all tickets.\\n    - **GET /tickets/{ticketId}**: Retrieve details of a specific ticket.\\n    - **POST /tickets**: Create a new ticket for a customer.\\n    - **PUT /tickets/{ticketId}**: Update details of an existing ticket.\\n    - **DELETE /tickets/{ticketId}**: Delete a specific ticket.\\n\\n3. **Agent**\\n    - **GET /agents**: Retrieve a list of all agents.\\n    - **GET /agents/{agentId}**: Retrieve details of a specific agent.\\n    - **POST /agents**: Add a new agent.\\n    - **PUT /agents/{agentId}**: Update details of an existing agent.\\n    - **DELETE /agents/{agentId}**: Delete a specific agent.\\n\\n4. **Response**\\n    - **GET /tickets/{ticketId}/responses**: Retrieve all responses for a specific ticket.\\n    - **POST /tickets/{ticketId}/responses**: Add a new response to a specific ticket.\\n    - **PUT /responses/{responseId}**: Update details of an existing response.\\n    - **DELETE /responses/{responseId}**: Delete a specific response.\\n\\n### Additional Considerations\\n\\n- **Authentication and Authorization**: Ensure that endpoints are secured, and users have appropriate permissions.\\n- **Pagination and Filtering**: Implement pagination for endpoints returning lists (e.g., `/customers`, `/tickets`). Allow filtering by attributes (e.g., status of tickets).\\n- **Error Handling**: Design a consistent error response structure that includes an error code and message.\\n- **Versioning**: Use API versioning (e.g., `/v1/customers`) to allow future updates without disrupting existing clients.\\n- **Integration**: Make provisions for integrating with CRM tools by offering webhooks or API gateways.\\n\\nThis structure provides a clear separation of resources, making it easier to manage and expand as needed. Prioritizing the specified endpoints allows building a functional customer service system that can grow with business needs.\""
      ]
     },
     "execution_count": 17,
     "metadata": {},
     "output_type": "execute_result"
    }
   ],
   "source": [
    "from lion import Branch\n",
    "\n",
    "branch = Branch()\n",
    "\n",
    "await branch.communicate(**all_steps[0].model_dump())"
   ]
  },
  {
   "cell_type": "code",
   "execution_count": 18,
   "metadata": {},
   "outputs": [
    {
     "name": "stdout",
     "output_type": "stream",
     "text": [
      "To design a RESTful API for a customer service system, we need to outline the key resources and endpoints, ensuring scalability and integration with existing CRM tools. Following industry-standard practices, we'll define the resources and CRUD operations clearly. Here's a proposed structure for the API:\n",
      "\n",
      "### Key Resources and Endpoints\n",
      "\n",
      "1. **Customer**\n",
      "    - **GET /customers**: Retrieve a list of all customers.\n",
      "    - **GET /customers/{customerId}**: Retrieve details of a specific customer.\n",
      "    - **POST /customers**: Create a new customer.\n",
      "    - **PUT /customers/{customerId}**: Update details of an existing customer.\n",
      "    - **DELETE /customers/{customerId}**: Delete a specific customer.\n",
      "\n",
      "2. **Ticket**\n",
      "    - **GET /tickets**: Retrieve a list of all tickets.\n",
      "    - **GET /tickets/{ticketId}**: Retrieve details of a specific ticket.\n",
      "    - **POST /tickets**: Create a new ticket for a customer.\n",
      "    - **PUT /tickets/{ticketId}**: Update details of an existing ticket.\n",
      "    - **DELETE /tickets/{ticketId}**: Delete a specific ticket.\n",
      "\n",
      "3. **Agent**\n",
      "    - **GET /agents**: Retrieve a list of all agents.\n",
      "    - **GET /agents/{agentId}**: Retrieve details of a specific agent.\n",
      "    - **POST /agents**: Add a new agent.\n",
      "    - **PUT /agents/{agentId}**: Update details of an existing agent.\n",
      "    - **DELETE /agents/{agentId}**: Delete a specific agent.\n",
      "\n",
      "4. **Response**\n",
      "    - **GET /tickets/{ticketId}/responses**: Retrieve all responses for a specific ticket.\n",
      "    - **POST /tickets/{ticketId}/responses**: Add a new response to a specific ticket.\n",
      "    - **PUT /responses/{responseId}**: Update details of an existing response.\n",
      "    - **DELETE /responses/{responseId}**: Delete a specific response.\n",
      "\n",
      "### Additional Considerations\n",
      "\n",
      "- **Authentication and Authorization**: Ensure that endpoints are secured, and users have appropriate permissions.\n",
      "- **Pagination and Filtering**: Implement pagination for endpoints returning lists (e.g., `/customers`, `/tickets`). Allow filtering by attributes (e.g., status of tickets).\n",
      "- **Error Handling**: Design a consistent error response structure that includes an error code and message.\n",
      "- **Versioning**: Use API versioning (e.g., `/v1/customers`) to allow future updates without disrupting existing clients.\n",
      "- **Integration**: Make provisions for integrating with CRM tools by offering webhooks or API gateways.\n",
      "\n",
      "This structure provides a clear separation of resources, making it easier to manage and expand as needed. Prioritizing the specified endpoints allows building a functional customer service system that can grow with business needs.\n"
     ]
    }
   ],
   "source": [
    "print(\n",
    "    \"To design a RESTful API for a customer service system, we need to outline the key resources and endpoints, ensuring scalability and integration with existing CRM tools. Following industry-standard practices, we'll define the resources and CRUD operations clearly. Here's a proposed structure for the API:\\n\\n### Key Resources and Endpoints\\n\\n1. **Customer**\\n    - **GET /customers**: Retrieve a list of all customers.\\n    - **GET /customers/{customerId}**: Retrieve details of a specific customer.\\n    - **POST /customers**: Create a new customer.\\n    - **PUT /customers/{customerId}**: Update details of an existing customer.\\n    - **DELETE /customers/{customerId}**: Delete a specific customer.\\n\\n2. **Ticket**\\n    - **GET /tickets**: Retrieve a list of all tickets.\\n    - **GET /tickets/{ticketId}**: Retrieve details of a specific ticket.\\n    - **POST /tickets**: Create a new ticket for a customer.\\n    - **PUT /tickets/{ticketId}**: Update details of an existing ticket.\\n    - **DELETE /tickets/{ticketId}**: Delete a specific ticket.\\n\\n3. **Agent**\\n    - **GET /agents**: Retrieve a list of all agents.\\n    - **GET /agents/{agentId}**: Retrieve details of a specific agent.\\n    - **POST /agents**: Add a new agent.\\n    - **PUT /agents/{agentId}**: Update details of an existing agent.\\n    - **DELETE /agents/{agentId}**: Delete a specific agent.\\n\\n4. **Response**\\n    - **GET /tickets/{ticketId}/responses**: Retrieve all responses for a specific ticket.\\n    - **POST /tickets/{ticketId}/responses**: Add a new response to a specific ticket.\\n    - **PUT /responses/{responseId}**: Update details of an existing response.\\n    - **DELETE /responses/{responseId}**: Delete a specific response.\\n\\n### Additional Considerations\\n\\n- **Authentication and Authorization**: Ensure that endpoints are secured, and users have appropriate permissions.\\n- **Pagination and Filtering**: Implement pagination for endpoints returning lists (e.g., `/customers`, `/tickets`). Allow filtering by attributes (e.g., status of tickets).\\n- **Error Handling**: Design a consistent error response structure that includes an error code and message.\\n- **Versioning**: Use API versioning (e.g., `/v1/customers`) to allow future updates without disrupting existing clients.\\n- **Integration**: Make provisions for integrating with CRM tools by offering webhooks or API gateways.\\n\\nThis structure provides a clear separation of resources, making it easier to manage and expand as needed. Prioritizing the specified endpoints allows building a functional customer service system that can grow with business needs.\"\n",
    ")"
   ]
  },
  {
   "cell_type": "code",
   "execution_count": 14,
   "metadata": {},
   "outputs": [
    {
     "data": {
      "text/markdown": [
       "```json\n",
       "{\n",
       "    \"instruction\": \"Design the API structure and determine the key resources and endpoints required for the customer service system.\",\n",
       "    \"guidance\": \"Use industry-standard practices for RESTful API design, ensuring clear separation of resources and defining CRUD operations. Prioritize endpoints like 'customer', 'ticket', 'agent', and 'response'.\",\n",
       "    \"context\": \"It's crucial to ensure that the structure supports future scalability and potential integration with existing CRM tools.\"\n",
       "}\n",
       "```"
      ],
      "text/plain": [
       "<IPython.core.display.Markdown object>"
      ]
     },
     "metadata": {},
     "output_type": "display_data"
    },
    {
     "data": {
      "text/markdown": [
       "```json\n",
       "{\n",
       "    \"instruction\": \"Implement the REST API using FastAPI framework in Python, creating the defined endpoints and ensuring proper data handling.\",\n",
       "    \"guidance\": \"Focus on FastAPI's ability to create high-performance and easy-to-implement APIs. Ensure thorough error handling and input validation.\",\n",
       "    \"context\": \"This step requires installation and configuration of FastAPI, along with dependencies such as Pydantic for data validation.\"\n",
       "}\n",
       "```"
      ],
      "text/plain": [
       "<IPython.core.display.Markdown object>"
      ]
     },
     "metadata": {},
     "output_type": "display_data"
    },
    {
     "data": {
      "text/markdown": [
       "```json\n",
       "{\n",
       "    \"instruction\": \"Develop a data storage solution for managing customer data, service tickets, and agent interactions.\",\n",
       "    \"guidance\": \"Choose a database compatible with FastAPI, such as PostgreSQL or MongoDB, and ensure efficient data schema design for scalability and performance.\",\n",
       "    \"context\": \"Consider the current data handling capabilities and expected future data volume. Implement connection pooling for database connections.\"\n",
       "}\n",
       "```"
      ],
      "text/plain": [
       "<IPython.core.display.Markdown object>"
      ]
     },
     "metadata": {},
     "output_type": "display_data"
    },
    {
     "data": {
      "text/markdown": [
       "```json\n",
       "{\n",
       "    \"instruction\": \"Create a comprehensive testing suite for the API operations to ensure reliability and performance.\",\n",
       "    \"guidance\": \"Utilize testing frameworks such as Pytest to implement unit tests and integration tests covering all API endpoints and functionalities.\",\n",
       "    \"context\": \"The testing phase should simulate real-world usage scenarios and verify compliance with API specifications. Continuous integration tools should be considered for automating tests.\"\n",
       "}\n",
       "```"
      ],
      "text/plain": [
       "<IPython.core.display.Markdown object>"
      ]
     },
     "metadata": {},
     "output_type": "display_data"
    },
    {
     "data": {
      "text/markdown": [
       "```json\n",
       "{\n",
       "    \"instruction\": \"Deploy the API to a cloud platform and set up monitoring and logging.\",\n",
       "    \"guidance\": \"Choose a cloud provider like AWS or Azure, use Docker for containerization, and set up logging and monitoring tools such as Prometheus and Grafana for real-time insights.\",\n",
       "    \"context\": \"Ensure the deployment environment supports scalability, security, and high availability. Consider setting up a CI/CD pipeline for automated deployments.\"\n",
       "}\n",
       "```"
      ],
      "text/plain": [
       "<IPython.core.display.Markdown object>"
      ]
     },
     "metadata": {},
     "output_type": "display_data"
    },
    {
     "data": {
      "text/markdown": [
       "```json\n",
       "{\n",
       "    \"instruction\": \"Identify and define the key resources and endpoints needed for the customer service API.\",\n",
       "    \"guidance\": \"Focus on creating a RESTful API design with clear separation of concerns. Key resources include 'customer', 'ticket', 'agent', and 'response'. Each resource should support standard CRUD operations, allowing creation, retrieval, update, and deletion of data.\",\n",
       "    \"context\": \"The design should account for potential integration with CRM systems, consider existing workflows, and ensure consistency with modern API standards such as using appropriate HTTP methods and status codes.\"\n",
       "}\n",
       "```"
      ],
      "text/plain": [
       "<IPython.core.display.Markdown object>"
      ]
     },
     "metadata": {},
     "output_type": "display_data"
    },
    {
     "data": {
      "text/markdown": [
       "```json\n",
       "{\n",
       "    \"instruction\": \"Define the data models and relationships between resources.\",\n",
       "    \"guidance\": \"Develop concise and flexible data models that capture essential attributes for each resource. Utilize normalization principles to avoid redundancy and consider using an ORM for managing database interactions.\",\n",
       "    \"context\": \"Understand the current data architecture to ensure compatibility and ease of migration if necessary.\"\n",
       "}\n",
       "```"
      ],
      "text/plain": [
       "<IPython.core.display.Markdown object>"
      ]
     },
     "metadata": {},
     "output_type": "display_data"
    },
    {
     "data": {
      "text/markdown": [
       "```json\n",
       "{\n",
       "    \"instruction\": \"Create a detailed endpoint specification outlining the URI patterns and expected request/response formats.\",\n",
       "    \"guidance\": \"Use a versioning strategy in the URI, such as '/api/v1/', to support future API changes. Docs should include examples of JSON payloads and status codes for each endpoint.\",\n",
       "    \"context\": \"Consider common client-side usage patterns to optimize JSON response sizes and endpoints' design.\"\n",
       "}\n",
       "```"
      ],
      "text/plain": [
       "<IPython.core.display.Markdown object>"
      ]
     },
     "metadata": {},
     "output_type": "display_data"
    },
    {
     "data": {
      "text/markdown": [
       "```json\n",
       "{\n",
       "    \"instruction\": \"Implement error handling and define appropriate HTTP status codes for various scenarios.\",\n",
       "    \"guidance\": \"Adopt a comprehensive error handling strategy that uses standardized error messages and appropriate status codes, such as 400 for bad requests and 404 for not found.\",\n",
       "    \"context\": \"The API will interact with various client applications, so clear and consistent error communication is crucial for debugging and integration.\"\n",
       "}\n",
       "```"
      ],
      "text/plain": [
       "<IPython.core.display.Markdown object>"
      ]
     },
     "metadata": {},
     "output_type": "display_data"
    },
    {
     "data": {
      "text/markdown": [
       "```json\n",
       "{\n",
       "    \"instruction\": \"Draft documentation outlining the API's functionality and usage for developers.\",\n",
       "    \"guidance\": \"Provide thorough documentation with examples, descriptions of each operation, and authentication methods, such as JWT or OAuth.\",\n",
       "    \"context\": \"Good documentation will accelerate the adoption and integration process by developers and stakeholders.\"\n",
       "}\n",
       "```"
      ],
      "text/plain": [
       "<IPython.core.display.Markdown object>"
      ]
     },
     "metadata": {},
     "output_type": "display_data"
    },
    {
     "data": {
      "text/markdown": [
       "```json\n",
       "{\n",
       "    \"instruction\": \"Set up a new FastAPI project environment and install necessary dependencies including FastAPI and Pydantic.\",\n",
       "    \"guidance\": \"Set up a virtual environment using venv or conda and install FastAPI along with its command-line runner, Uvicorn, for serving the application. Ensure Pydantic is included for data validation.\",\n",
       "    \"context\": \"A proper setup ensures isolation and prevents dependency conflicts which is key for smooth development and testing.\"\n",
       "}\n",
       "```"
      ],
      "text/plain": [
       "<IPython.core.display.Markdown object>"
      ]
     },
     "metadata": {},
     "output_type": "display_data"
    },
    {
     "data": {
      "text/markdown": [
       "```json\n",
       "{\n",
       "    \"instruction\": \"Define API endpoints and implement business logic within them using FastAPI.\",\n",
       "    \"guidance\": \"Create endpoints for the identified resources such as 'customer', 'ticket', 'agent', and 'response'. Use FastAPI’s routing and dependency injection features to organize code and handle requests.\",\n",
       "    \"context\": \"The proper structuring of endpoints allows for organized code and easier maintenance and scaling.\"\n",
       "}\n",
       "```"
      ],
      "text/plain": [
       "<IPython.core.display.Markdown object>"
      ]
     },
     "metadata": {},
     "output_type": "display_data"
    },
    {
     "data": {
      "text/markdown": [
       "```json\n",
       "{\n",
       "    \"instruction\": \"Utilize Pydantic models for request and response data validation.\",\n",
       "    \"guidance\": \"Define Pydantic models to validate incoming data and ensure structured responses. This facilitates clean code and robust error handling.\",\n",
       "    \"context\": \"Data validation is critical to prevent errors and ensure the integrity of operations across different system components.\"\n",
       "}\n",
       "```"
      ],
      "text/plain": [
       "<IPython.core.display.Markdown object>"
      ]
     },
     "metadata": {},
     "output_type": "display_data"
    },
    {
     "data": {
      "text/markdown": [
       "```json\n",
       "{\n",
       "    \"instruction\": \"Implement robust error handling and response management.\",\n",
       "    \"guidance\": \"Use FastAPI’s exception handlers to manage errors. Return clear and meaningful HTTP status codes and error messages for client operations.\",\n",
       "    \"context\": \"Effective error handling contributes to a better client experience by providing informative feedback and facilitates debugging.\"\n",
       "}\n",
       "```"
      ],
      "text/plain": [
       "<IPython.core.display.Markdown object>"
      ]
     },
     "metadata": {},
     "output_type": "display_data"
    },
    {
     "data": {
      "text/markdown": [
       "```json\n",
       "{\n",
       "    \"instruction\": \"Test each endpoint thoroughly to ensure expected behavior and performance.\",\n",
       "    \"guidance\": \"Use testing frameworks like Pytest to create a suite of tests that cover edge cases and standard use cases for all endpoints. Benchmark performance to ensure responsiveness.\",\n",
       "    \"context\": \"Thorough testing ensures the reliability and scalability of the API in production environments.\"\n",
       "}\n",
       "```"
      ],
      "text/plain": [
       "<IPython.core.display.Markdown object>"
      ]
     },
     "metadata": {},
     "output_type": "display_data"
    },
    {
     "data": {
      "text/markdown": [
       "```json\n",
       "{\n",
       "    \"instruction\": \"Choose a suitable database management system for the project, such as PostgreSQL or MongoDB.\",\n",
       "    \"guidance\": \"Consider factors such as expected data volume, transaction performance, and the need for structured vs. unstructured data handling. PostgreSQL is ideal for relational data with complex queries, whereas MongoDB is suitable for flexible schema designs.\",\n",
       "    \"context\": \"Assess current infrastructure capabilities and potential future requirements to ensure long-term scalability and performance.\"\n",
       "}\n",
       "```"
      ],
      "text/plain": [
       "<IPython.core.display.Markdown object>"
      ]
     },
     "metadata": {},
     "output_type": "display_data"
    },
    {
     "data": {
      "text/markdown": [
       "```json\n",
       "{\n",
       "    \"instruction\": \"Design the database schema focusing on scalability and normalization.\",\n",
       "    \"guidance\": \"Create tables or collections for core entities like customers, tickets, and agents. Use normalization to reduce data redundancy while ensuring schema can handle growth and increased query complexity.\",\n",
       "    \"context\": \"Considering the relationships and interactions between entities, such as customer to ticket, will enable an efficient schema design that supports business operations.\"\n",
       "}\n",
       "```"
      ],
      "text/plain": [
       "<IPython.core.display.Markdown object>"
      ]
     },
     "metadata": {},
     "output_type": "display_data"
    },
    {
     "data": {
      "text/markdown": [
       "```json\n",
       "{\n",
       "    \"instruction\": \"Set up connection pooling to manage database connections efficiently.\",\n",
       "    \"guidance\": \"Implement a connection pooling mechanism to optimize resource usage and improve the API's response time. Libraries such as SQLAlchemy or asyncpg with PostgreSQL can be used to facilitate this.\",\n",
       "    \"context\": \"Connection pooling is critical for systems expecting high concurrency and needing to maintain performance under load.\"\n",
       "}\n",
       "```"
      ],
      "text/plain": [
       "<IPython.core.display.Markdown object>"
      ]
     },
     "metadata": {},
     "output_type": "display_data"
    },
    {
     "data": {
      "text/markdown": [
       "```json\n",
       "{\n",
       "    \"instruction\": \"Implement data access layers and asynchronous query handling.\",\n",
       "    \"guidance\": \"Utilize ORMs like SQLAlchemy for PostgreSQL or ODMs for MongoDB to abstract database interactions. Implement asynchronous database operations to enhance performance, particularly under high-load situations.\",\n",
       "    \"context\": \"Ensure that all data operations are consistent and support system scalability by designing for async operations from the start.\"\n",
       "}\n",
       "```"
      ],
      "text/plain": [
       "<IPython.core.display.Markdown object>"
      ]
     },
     "metadata": {},
     "output_type": "display_data"
    },
    {
     "data": {
      "text/markdown": [
       "```json\n",
       "{\n",
       "    \"instruction\": \"Develop backup and recovery strategies for data integrity and security.\",\n",
       "    \"guidance\": \"Design an automated backup system to protect against data loss. Ensure recovery procedures are in place and regularly tested to maintain data integrity and availability.\",\n",
       "    \"context\": \"Data security and disaster recovery should be top priorities in any data storage planning to ensure business continuity and user trust.\"\n",
       "}\n",
       "```"
      ],
      "text/plain": [
       "<IPython.core.display.Markdown object>"
      ]
     },
     "metadata": {},
     "output_type": "display_data"
    },
    {
     "data": {
      "text/markdown": [
       "```json\n",
       "{\n",
       "    \"instruction\": \"Set up the testing environment and configure necessary dependencies.\",\n",
       "    \"guidance\": \"Use virtual environments and install testing frameworks like Pytest and coverage tools. Ensure the environment mirrors production settings to catch configuration-specific issues.\",\n",
       "    \"context\": \"A well-configured environment ensures that tests reflect real-world scenarios and can easily integrate into continuous integration pipelines.\"\n",
       "}\n",
       "```"
      ],
      "text/plain": [
       "<IPython.core.display.Markdown object>"
      ]
     },
     "metadata": {},
     "output_type": "display_data"
    },
    {
     "data": {
      "text/markdown": [
       "```json\n",
       "{\n",
       "    \"instruction\": \"Develop unit tests for individual components of the API.\",\n",
       "    \"guidance\": \"Write tests that cover each function and class method, focusing on expected input and output. Mock external dependencies to isolate unit functionality.\",\n",
       "    \"context\": \"Unit tests help catch bugs early in the development process by validating the smallest testable parts of an application in isolation.\"\n",
       "}\n",
       "```"
      ],
      "text/plain": [
       "<IPython.core.display.Markdown object>"
      ]
     },
     "metadata": {},
     "output_type": "display_data"
    },
    {
     "data": {
      "text/markdown": [
       "```json\n",
       "{\n",
       "    \"instruction\": \"Create integration tests to verify interactions between components.\",\n",
       "    \"guidance\": \"Test the interaction between the API endpoints and the database. Ensure data is processed correctly from input validation to database storage and retrieval.\",\n",
       "    \"context\": \"Integration tests will confirm that the components work together as expected, particularly focusing on data flow and processing within the whole system.\"\n",
       "}\n",
       "```"
      ],
      "text/plain": [
       "<IPython.core.display.Markdown object>"
      ]
     },
     "metadata": {},
     "output_type": "display_data"
    },
    {
     "data": {
      "text/markdown": [
       "```json\n",
       "{\n",
       "    \"instruction\": \"Simulate real-world usage scenarios and conduct performance testing.\",\n",
       "    \"guidance\": \"Use test data and load testing tools like Locust or JMeter to simulate concurrent users and API calls under load. Monitor performance metrics to identify bottlenecks.\",\n",
       "    \"context\": \"Performance testing ensures that the API can handle the required workload and remains responsive under peak usage conditions.\"\n",
       "}\n",
       "```"
      ],
      "text/plain": [
       "<IPython.core.display.Markdown object>"
      ]
     },
     "metadata": {},
     "output_type": "display_data"
    },
    {
     "data": {
      "text/markdown": [
       "```json\n",
       "{\n",
       "    \"instruction\": \"Integrate tests into a continuous integration/continuous deployment (CI/CD) pipeline.\",\n",
       "    \"guidance\": \"Use CI/CD tools such as Jenkins, Travis CI, or GitHub Actions to automate the running of test suites upon code commits and prior to deployment.\",\n",
       "    \"context\": \"Automated testing in a CI/CD pipeline helps maintain code quality, facilitates early bug detection, and supports agile development practices.\"\n",
       "}\n",
       "```"
      ],
      "text/plain": [
       "<IPython.core.display.Markdown object>"
      ]
     },
     "metadata": {},
     "output_type": "display_data"
    },
    {
     "data": {
      "text/markdown": [
       "```json\n",
       "{\n",
       "    \"instruction\": \"Select an appropriate cloud provider such as AWS or Azure for API deployment.\",\n",
       "    \"guidance\": \"Evaluate the service offerings, global reach, and integration capabilities with existing tools offered by cloud providers. Consider AWS Elastic Beanstalk or Azure App Service for managed application environments.\",\n",
       "    \"context\": \"The chosen provider should align with the organization's existing infrastructure, future scaling needs, and compliance requirements.\"\n",
       "}\n",
       "```"
      ],
      "text/plain": [
       "<IPython.core.display.Markdown object>"
      ]
     },
     "metadata": {},
     "output_type": "display_data"
    },
    {
     "data": {
      "text/markdown": [
       "```json\n",
       "{\n",
       "    \"instruction\": \"Containerize the API using Docker for consistent deployment across environments.\",\n",
       "    \"guidance\": \"Create a Dockerfile to define the application’s environment and dependencies. Use Docker Compose if the application involves multiple services.\",\n",
       "    \"context\": \"Containerization facilitates repeatable and reliable deployment processes, simplifying environment management and application scaling.\"\n",
       "}\n",
       "```"
      ],
      "text/plain": [
       "<IPython.core.display.Markdown object>"
      ]
     },
     "metadata": {},
     "output_type": "display_data"
    },
    {
     "data": {
      "text/markdown": [
       "```json\n",
       "{\n",
       "    \"instruction\": \"Deploy the containerized application to the chosen cloud platform.\",\n",
       "    \"guidance\": \"Use cloud services like AWS ECS or Azure Kubernetes Service to orchestrate the deployment of the application containers, ensuring load balancing and automatic scaling configurations.\",\n",
       "    \"context\": \"Proper deployment setup should handle varying levels of demand and provide a fault-tolerant architecture.\"\n",
       "}\n",
       "```"
      ],
      "text/plain": [
       "<IPython.core.display.Markdown object>"
      ]
     },
     "metadata": {},
     "output_type": "display_data"
    },
    {
     "data": {
      "text/markdown": [
       "```json\n",
       "{\n",
       "    \"instruction\": \"Set up monitoring and logging infrastructure using tools like Prometheus and Grafana.\",\n",
       "    \"guidance\": \"Deploy Prometheus for collecting performance metrics, and Grafana for visualizing these metrics. Integrate logging solutions like AWS CloudWatch or Azure Monitor for centralized log management.\",\n",
       "    \"context\": \"Monitoring and logging are crucial for tracking application performance, detecting anomalies, and aiding in debugging and compliance auditing.\"\n",
       "}\n",
       "```"
      ],
      "text/plain": [
       "<IPython.core.display.Markdown object>"
      ]
     },
     "metadata": {},
     "output_type": "display_data"
    },
    {
     "data": {
      "text/markdown": [
       "```json\n",
       "{\n",
       "    \"instruction\": \"Configure a CI/CD pipeline to automate the deployment process.\",\n",
       "    \"guidance\": \"Use CI/CD tools such as Jenkins, GitHub Actions, or AWS CodePipeline to automate testing and deployment processes, ensuring fast and reliable updates.\",\n",
       "    \"context\": \"Automation in deployment speeds up release cycles, reduces human errors, and ensures consistent quality by integrating testing into the deployment pipeline.\"\n",
       "}\n",
       "```"
      ],
      "text/plain": [
       "<IPython.core.display.Markdown object>"
      ]
     },
     "metadata": {},
     "output_type": "display_data"
    }
   ],
   "source": [
    "for i in all_steps:\n",
    "    display(Markdown(as_readable(i, md=True)))"
   ]
  },
  {
   "cell_type": "code",
   "execution_count": 19,
   "metadata": {},
   "outputs": [],
   "source": [
    "msgs = session.concat_messages()"
   ]
  },
  {
   "cell_type": "code",
   "execution_count": 20,
   "metadata": {},
   "outputs": [
    {
     "data": {
      "text/html": [
       "<div>\n",
       "<style scoped>\n",
       "    .dataframe tbody tr th:only-of-type {\n",
       "        vertical-align: middle;\n",
       "    }\n",
       "\n",
       "    .dataframe tbody tr th {\n",
       "        vertical-align: top;\n",
       "    }\n",
       "\n",
       "    .dataframe thead th {\n",
       "        text-align: right;\n",
       "    }\n",
       "</style>\n",
       "<table border=\"1\" class=\"dataframe\">\n",
       "  <thead>\n",
       "    <tr style=\"text-align: right;\">\n",
       "      <th></th>\n",
       "      <th>ln_id</th>\n",
       "      <th>timestamp</th>\n",
       "      <th>sender</th>\n",
       "      <th>recipient</th>\n",
       "      <th>metadata</th>\n",
       "      <th>content</th>\n",
       "      <th>embedding</th>\n",
       "      <th>role</th>\n",
       "      <th>lion_class</th>\n",
       "    </tr>\n",
       "  </thead>\n",
       "  <tbody>\n",
       "    <tr>\n",
       "      <th>0</th>\n",
       "      <td>ao78701944a-a78b8-2-76990cf84f2-2e62e65460</td>\n",
       "      <td>2024-11-15 17:02:18.536142+00:00</td>\n",
       "      <td>user</td>\n",
       "      <td>ao2948162-a34849c-e0-3fa2574519b47-f8af32b</td>\n",
       "      <td>{'last_updated': {'context': 1731690150.45635}}</td>\n",
       "      <td>{'context': ['Using Python and FastAPI', {'res...</td>\n",
       "      <td>[]</td>\n",
       "      <td>user</td>\n",
       "      <td>Instruction</td>\n",
       "    </tr>\n",
       "    <tr>\n",
       "      <th>1</th>\n",
       "      <td>ao00a297e2ae19816-85-897-3cb67eaca-406701d</td>\n",
       "      <td>2024-11-15 17:02:30.456199+00:00</td>\n",
       "      <td>ao2948162-a34849c-e0-3fa2574519b47-f8af32b</td>\n",
       "      <td>N/A</td>\n",
       "      <td>{'model_response': {'id': 'chatcmpl-ATu032wT8v...</td>\n",
       "      <td>{'assistant_response': '```json\n",
       "{\n",
       "    \"title\":...</td>\n",
       "      <td>[]</td>\n",
       "      <td>assistant</td>\n",
       "      <td>AssistantResponse</td>\n",
       "    </tr>\n",
       "    <tr>\n",
       "      <th>2</th>\n",
       "      <td>aoed116940a-6-27e4-be8d25a0aa23-7b0a371da1</td>\n",
       "      <td>2024-11-15 17:02:30.459384+00:00</td>\n",
       "      <td>user</td>\n",
       "      <td>ao2948162-a34849c-e0-3fa2574519b47-f8af32b</td>\n",
       "      <td>{'last_updated': {'context': 1731690160.618714}}</td>\n",
       "      <td>{'context': ['It's crucial to ensure that the ...</td>\n",
       "      <td>[]</td>\n",
       "      <td>user</td>\n",
       "      <td>Instruction</td>\n",
       "    </tr>\n",
       "    <tr>\n",
       "      <th>3</th>\n",
       "      <td>ao4c19bc22e44d2-92-5c387dc-0-004d97f49a7c4</td>\n",
       "      <td>2024-11-15 17:02:40.618572+00:00</td>\n",
       "      <td>ao2948162-a34849c-e0-3fa2574519b47-f8af32b</td>\n",
       "      <td>N/A</td>\n",
       "      <td>{'model_response': {'id': 'chatcmpl-ATu0EmgHb9...</td>\n",
       "      <td>{'assistant_response': '```json\n",
       "{\n",
       "    \"title\":...</td>\n",
       "      <td>[]</td>\n",
       "      <td>assistant</td>\n",
       "      <td>AssistantResponse</td>\n",
       "    </tr>\n",
       "    <tr>\n",
       "      <th>4</th>\n",
       "      <td>ao5d2a1e8a52d1-4cf9-25986d9-d348-8bf98e0ca</td>\n",
       "      <td>2024-11-15 17:02:40.630904+00:00</td>\n",
       "      <td>user</td>\n",
       "      <td>ao2948162-a34849c-e0-3fa2574519b47-f8af32b</td>\n",
       "      <td>{'last_updated': {'context': 1731690171.953551}}</td>\n",
       "      <td>{'context': ['This step requires installation ...</td>\n",
       "      <td>[]</td>\n",
       "      <td>user</td>\n",
       "      <td>Instruction</td>\n",
       "    </tr>\n",
       "    <tr>\n",
       "      <th>5</th>\n",
       "      <td>ao70824f7-c42-70-1dba09b03982-191b8d9ea450</td>\n",
       "      <td>2024-11-15 17:02:51.953449+00:00</td>\n",
       "      <td>ao2948162-a34849c-e0-3fa2574519b47-f8af32b</td>\n",
       "      <td>N/A</td>\n",
       "      <td>{'model_response': {'id': 'chatcmpl-ATu0POzOAt...</td>\n",
       "      <td>{'assistant_response': '```json\n",
       "{\n",
       "    \"title\":...</td>\n",
       "      <td>[]</td>\n",
       "      <td>assistant</td>\n",
       "      <td>AssistantResponse</td>\n",
       "    </tr>\n",
       "    <tr>\n",
       "      <th>6</th>\n",
       "      <td>ao76be44fb86-e5867691227c-3-7b-a2e2a48dd43</td>\n",
       "      <td>2024-11-15 17:02:51.960762+00:00</td>\n",
       "      <td>user</td>\n",
       "      <td>ao2948162-a34849c-e0-3fa2574519b47-f8af32b</td>\n",
       "      <td>{'last_updated': {'context': 1731690179.265246}}</td>\n",
       "      <td>{'context': ['Consider the current data handli...</td>\n",
       "      <td>[]</td>\n",
       "      <td>user</td>\n",
       "      <td>Instruction</td>\n",
       "    </tr>\n",
       "    <tr>\n",
       "      <th>7</th>\n",
       "      <td>ao7d362b2be387d-d-89f-d0-81268ee2e5122f0b0</td>\n",
       "      <td>2024-11-15 17:02:59.265145+00:00</td>\n",
       "      <td>ao2948162-a34849c-e0-3fa2574519b47-f8af32b</td>\n",
       "      <td>N/A</td>\n",
       "      <td>{'model_response': {'id': 'chatcmpl-ATu0aLjbiJ...</td>\n",
       "      <td>{'assistant_response': '```json\n",
       "{\n",
       "    \"title\":...</td>\n",
       "      <td>[]</td>\n",
       "      <td>assistant</td>\n",
       "      <td>AssistantResponse</td>\n",
       "    </tr>\n",
       "    <tr>\n",
       "      <th>8</th>\n",
       "      <td>ao1213f0398bac-6c56-9734e9519-476d-cbe4002</td>\n",
       "      <td>2024-11-15 17:02:59.271714+00:00</td>\n",
       "      <td>user</td>\n",
       "      <td>ao2948162-a34849c-e0-3fa2574519b47-f8af32b</td>\n",
       "      <td>{'last_updated': {'context': 1731690186.428608}}</td>\n",
       "      <td>{'context': ['The testing phase should simulat...</td>\n",
       "      <td>[]</td>\n",
       "      <td>user</td>\n",
       "      <td>Instruction</td>\n",
       "    </tr>\n",
       "    <tr>\n",
       "      <th>9</th>\n",
       "      <td>ao860cc74b9977-8d8cfb3b0f-e-43c2-b6501e26c</td>\n",
       "      <td>2024-11-15 17:03:06.428388+00:00</td>\n",
       "      <td>ao2948162-a34849c-e0-3fa2574519b47-f8af32b</td>\n",
       "      <td>N/A</td>\n",
       "      <td>{'model_response': {'id': 'chatcmpl-ATu0hGXkUt...</td>\n",
       "      <td>{'assistant_response': '```json\n",
       "{\n",
       "    \"title\":...</td>\n",
       "      <td>[]</td>\n",
       "      <td>assistant</td>\n",
       "      <td>AssistantResponse</td>\n",
       "    </tr>\n",
       "    <tr>\n",
       "      <th>10</th>\n",
       "      <td>ao0c192f20-32f12f-7-4e46d8f2f-bcac4b1e3d43</td>\n",
       "      <td>2024-11-15 17:03:06.437617+00:00</td>\n",
       "      <td>user</td>\n",
       "      <td>ao2948162-a34849c-e0-3fa2574519b47-f8af32b</td>\n",
       "      <td>{'last_updated': {'context': 1731690194.091975}}</td>\n",
       "      <td>{'context': ['Ensure the deployment environmen...</td>\n",
       "      <td>[]</td>\n",
       "      <td>user</td>\n",
       "      <td>Instruction</td>\n",
       "    </tr>\n",
       "    <tr>\n",
       "      <th>11</th>\n",
       "      <td>ao089b513b1-7301d0ccd-aab-787c-f1a8548ef57</td>\n",
       "      <td>2024-11-15 17:03:14.091739+00:00</td>\n",
       "      <td>ao2948162-a34849c-e0-3fa2574519b47-f8af32b</td>\n",
       "      <td>N/A</td>\n",
       "      <td>{'model_response': {'id': 'chatcmpl-ATu0ov9d7o...</td>\n",
       "      <td>{'assistant_response': '```json\n",
       "{\n",
       "    \"title\":...</td>\n",
       "      <td>[]</td>\n",
       "      <td>assistant</td>\n",
       "      <td>AssistantResponse</td>\n",
       "    </tr>\n",
       "  </tbody>\n",
       "</table>\n",
       "</div>"
      ],
      "text/plain": [
       "                                         ln_id  \\\n",
       "0   ao78701944a-a78b8-2-76990cf84f2-2e62e65460   \n",
       "1   ao00a297e2ae19816-85-897-3cb67eaca-406701d   \n",
       "2   aoed116940a-6-27e4-be8d25a0aa23-7b0a371da1   \n",
       "3   ao4c19bc22e44d2-92-5c387dc-0-004d97f49a7c4   \n",
       "4   ao5d2a1e8a52d1-4cf9-25986d9-d348-8bf98e0ca   \n",
       "5   ao70824f7-c42-70-1dba09b03982-191b8d9ea450   \n",
       "6   ao76be44fb86-e5867691227c-3-7b-a2e2a48dd43   \n",
       "7   ao7d362b2be387d-d-89f-d0-81268ee2e5122f0b0   \n",
       "8   ao1213f0398bac-6c56-9734e9519-476d-cbe4002   \n",
       "9   ao860cc74b9977-8d8cfb3b0f-e-43c2-b6501e26c   \n",
       "10  ao0c192f20-32f12f-7-4e46d8f2f-bcac4b1e3d43   \n",
       "11  ao089b513b1-7301d0ccd-aab-787c-f1a8548ef57   \n",
       "\n",
       "                          timestamp  \\\n",
       "0  2024-11-15 17:02:18.536142+00:00   \n",
       "1  2024-11-15 17:02:30.456199+00:00   \n",
       "2  2024-11-15 17:02:30.459384+00:00   \n",
       "3  2024-11-15 17:02:40.618572+00:00   \n",
       "4  2024-11-15 17:02:40.630904+00:00   \n",
       "5  2024-11-15 17:02:51.953449+00:00   \n",
       "6  2024-11-15 17:02:51.960762+00:00   \n",
       "7  2024-11-15 17:02:59.265145+00:00   \n",
       "8  2024-11-15 17:02:59.271714+00:00   \n",
       "9  2024-11-15 17:03:06.428388+00:00   \n",
       "10 2024-11-15 17:03:06.437617+00:00   \n",
       "11 2024-11-15 17:03:14.091739+00:00   \n",
       "\n",
       "                                        sender  \\\n",
       "0                                         user   \n",
       "1   ao2948162-a34849c-e0-3fa2574519b47-f8af32b   \n",
       "2                                         user   \n",
       "3   ao2948162-a34849c-e0-3fa2574519b47-f8af32b   \n",
       "4                                         user   \n",
       "5   ao2948162-a34849c-e0-3fa2574519b47-f8af32b   \n",
       "6                                         user   \n",
       "7   ao2948162-a34849c-e0-3fa2574519b47-f8af32b   \n",
       "8                                         user   \n",
       "9   ao2948162-a34849c-e0-3fa2574519b47-f8af32b   \n",
       "10                                        user   \n",
       "11  ao2948162-a34849c-e0-3fa2574519b47-f8af32b   \n",
       "\n",
       "                                     recipient  \\\n",
       "0   ao2948162-a34849c-e0-3fa2574519b47-f8af32b   \n",
       "1                                          N/A   \n",
       "2   ao2948162-a34849c-e0-3fa2574519b47-f8af32b   \n",
       "3                                          N/A   \n",
       "4   ao2948162-a34849c-e0-3fa2574519b47-f8af32b   \n",
       "5                                          N/A   \n",
       "6   ao2948162-a34849c-e0-3fa2574519b47-f8af32b   \n",
       "7                                          N/A   \n",
       "8   ao2948162-a34849c-e0-3fa2574519b47-f8af32b   \n",
       "9                                          N/A   \n",
       "10  ao2948162-a34849c-e0-3fa2574519b47-f8af32b   \n",
       "11                                         N/A   \n",
       "\n",
       "                                             metadata  \\\n",
       "0     {'last_updated': {'context': 1731690150.45635}}   \n",
       "1   {'model_response': {'id': 'chatcmpl-ATu032wT8v...   \n",
       "2    {'last_updated': {'context': 1731690160.618714}}   \n",
       "3   {'model_response': {'id': 'chatcmpl-ATu0EmgHb9...   \n",
       "4    {'last_updated': {'context': 1731690171.953551}}   \n",
       "5   {'model_response': {'id': 'chatcmpl-ATu0POzOAt...   \n",
       "6    {'last_updated': {'context': 1731690179.265246}}   \n",
       "7   {'model_response': {'id': 'chatcmpl-ATu0aLjbiJ...   \n",
       "8    {'last_updated': {'context': 1731690186.428608}}   \n",
       "9   {'model_response': {'id': 'chatcmpl-ATu0hGXkUt...   \n",
       "10   {'last_updated': {'context': 1731690194.091975}}   \n",
       "11  {'model_response': {'id': 'chatcmpl-ATu0ov9d7o...   \n",
       "\n",
       "                                              content embedding       role  \\\n",
       "0   {'context': ['Using Python and FastAPI', {'res...        []       user   \n",
       "1   {'assistant_response': '```json\n",
       "{\n",
       "    \"title\":...        []  assistant   \n",
       "2   {'context': ['It's crucial to ensure that the ...        []       user   \n",
       "3   {'assistant_response': '```json\n",
       "{\n",
       "    \"title\":...        []  assistant   \n",
       "4   {'context': ['This step requires installation ...        []       user   \n",
       "5   {'assistant_response': '```json\n",
       "{\n",
       "    \"title\":...        []  assistant   \n",
       "6   {'context': ['Consider the current data handli...        []       user   \n",
       "7   {'assistant_response': '```json\n",
       "{\n",
       "    \"title\":...        []  assistant   \n",
       "8   {'context': ['The testing phase should simulat...        []       user   \n",
       "9   {'assistant_response': '```json\n",
       "{\n",
       "    \"title\":...        []  assistant   \n",
       "10  {'context': ['Ensure the deployment environmen...        []       user   \n",
       "11  {'assistant_response': '```json\n",
       "{\n",
       "    \"title\":...        []  assistant   \n",
       "\n",
       "           lion_class  \n",
       "0         Instruction  \n",
       "1   AssistantResponse  \n",
       "2         Instruction  \n",
       "3   AssistantResponse  \n",
       "4         Instruction  \n",
       "5   AssistantResponse  \n",
       "6         Instruction  \n",
       "7   AssistantResponse  \n",
       "8         Instruction  \n",
       "9   AssistantResponse  \n",
       "10        Instruction  \n",
       "11  AssistantResponse  "
      ]
     },
     "execution_count": 20,
     "metadata": {},
     "output_type": "execute_result"
    }
   ],
   "source": [
    "msgs.to_df()"
   ]
  }
 ],
 "metadata": {
  "kernelspec": {
   "display_name": ".venv",
   "language": "python",
   "name": "python3"
  },
  "language_info": {
   "codemirror_mode": {
    "name": "ipython",
    "version": 3
   },
   "file_extension": ".py",
   "mimetype": "text/x-python",
   "name": "python",
   "nbconvert_exporter": "python",
   "pygments_lexer": "ipython3",
   "version": "3.12.6"
  }
 },
 "nbformat": 4,
 "nbformat_minor": 2
}
