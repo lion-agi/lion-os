{
 "cells": [
  {
   "cell_type": "markdown",
   "metadata": {},
   "source": [
    "# Plan Operation Usage Patterns\n",
    "\n",
    "This notebook demonstrates different ways to use the plan operation in Lion."
   ]
  },
  {
   "cell_type": "code",
   "execution_count": 1,
   "metadata": {},
   "outputs": [],
   "source": [
    "from lion.operations import plan\n",
    "from lion import iModel"
   ]
  },
  {
   "cell_type": "markdown",
   "metadata": {},
   "source": [
    "## Basic Usage\n",
    "Simple example of creating and executing a plan"
   ]
  },
  {
   "cell_type": "code",
   "execution_count": 2,
   "metadata": {},
   "outputs": [],
   "source": [
    "from pydantic import BaseModel\n",
    "\n",
    "\n",
    "class PlanModel(BaseModel):\n",
    "    title: str\n",
    "    motivation: str\n",
    "\n",
    "\n",
    "imodel = iModel(model=\"openai/gpt-4o\")\n",
    "\n",
    "instruct = {\n",
    "    \"instruction\": \"Build a REST API for a customer service agentic system\",\n",
    "    \"context\": \"Using Python and FastAPI\",\n",
    "    \"guidance\": \"plan the steps out, they will be executed sequentially\",\n",
    "}\n",
    "\n",
    "result, session = await plan(\n",
    "    instruct=instruct,\n",
    "    imodel=imodel,\n",
    "    num_steps=5,\n",
    "    auto_run=True,\n",
    "    reason=True,\n",
    "    operative_model=PlanModel,\n",
    "    return_session=True,\n",
    ")"
   ]
  },
  {
   "cell_type": "code",
   "execution_count": 3,
   "metadata": {},
   "outputs": [
    {
     "data": {
      "text/plain": [
       "6"
      ]
     },
     "execution_count": 3,
     "metadata": {},
     "output_type": "execute_result"
    }
   ],
   "source": [
    "len(result)"
   ]
  },
  {
   "cell_type": "code",
   "execution_count": 9,
   "metadata": {},
   "outputs": [],
   "source": [
    "from lion.libs.parse import as_readable"
   ]
  },
  {
   "cell_type": "code",
   "execution_count": 6,
   "metadata": {},
   "outputs": [
    {
     "data": {
      "text/plain": [
       "[InstructModel(instruction='Design the architecture of the REST API, specifying the main components such as endpoints, request methods, authentication, and error handling.', guidance='Ensure the architecture follows RESTful principles and includes scalable components to handle increased load. Use JWT for secure authentication.', context='The client intends to enhance their customer service by automating some functions and improving efficiency through reliable and fast API responses.', reason=False, actions=False),\n",
       " InstructModel(instruction='Develop the API endpoints for common customer service tasks such as logging a query, status updates, and resolution feedback.', guidance='Use FastAPI for efficient API development. Include endpoints such as POST /queries, GET /status/{query_id}, and POST /feedback.', context={'dependencies': ['FastAPI', 'uvicorn', 'pydantic'], 'system_state': 'development', 'prior_results': {'feedback_handling': 'manual'}}, reason=False, actions=False),\n",
       " InstructModel(instruction='Implement input validation and error handling for the API using Pydantic models.', guidance='Prioritize handling invalid inputs gracefully and providing meaningful error messages. Include validation for each endpoint request body and query parameters.', context=None, reason=False, actions=False),\n",
       " InstructModel(instruction='Set up logging and monitoring for the REST API to track usage and performance metrics.', guidance='Integrate logging using a Python logging library and set up basic monitoring. Capture information like response times and error rates.', context='Current environment supports integration with logging tools such as Loguru and monitoring services like Prometheus.', reason=False, actions=False),\n",
       " InstructModel(instruction='Deploy the API to a cloud provider and ensure it is scalable and available to handle customer service requests.', guidance='Deploy using a container-based service like Docker and orchestrate with Kubernetes for scalability. Ensure high availability by setting up multiple replicas.', context={'system_state': 'pre-production', 'dependencies': ['Docker', 'Kubernetes'], 'environment': 'Cloud provider supports Docker hosting'}, reason=False, actions=False)]"
      ]
     },
     "execution_count": 6,
     "metadata": {},
     "output_type": "execute_result"
    }
   ],
   "source": [
    "result[0].instruct_models"
   ]
  },
  {
   "cell_type": "code",
   "execution_count": null,
   "metadata": {},
   "outputs": [
    {
     "data": {
      "text/markdown": [
       "```json\n",
       "{\n",
       "    \"title\": \"REST API Development for Customer Service System\",\n",
       "    \"motivation\": \"To facilitate efficient communication and service resolution for customers through a structured and scalable REST API, providing various endpoints for handling customer queries and issues.\",\n",
       "    \"instruct_models\": [\n",
       "        {\n",
       "            \"instruction\": \"Design the architecture of the REST API, specifying the main components such as endpoints, request methods, authentication, and error handling.\",\n",
       "            \"guidance\": \"Ensure the architecture follows RESTful principles and includes scalable components to handle increased load. Use JWT for secure authentication.\",\n",
       "            \"context\": \"The client intends to enhance their customer service by automating some functions and improving efficiency through reliable and fast API responses.\",\n",
       "            \"reason\": false,\n",
       "            \"actions\": false\n",
       "        },\n",
       "        {\n",
       "            \"instruction\": \"Develop the API endpoints for common customer service tasks such as logging a query, status updates, and resolution feedback.\",\n",
       "            \"guidance\": \"Use FastAPI for efficient API development. Include endpoints such as POST /queries, GET /status/{query_id}, and POST /feedback.\",\n",
       "            \"context\": {\n",
       "                \"dependencies\": [\n",
       "                    \"FastAPI\",\n",
       "                    \"uvicorn\",\n",
       "                    \"pydantic\"\n",
       "                ],\n",
       "                \"system_state\": \"development\",\n",
       "                \"prior_results\": {\n",
       "                    \"feedback_handling\": \"manual\"\n",
       "                }\n",
       "            },\n",
       "            \"reason\": false,\n",
       "            \"actions\": false\n",
       "        },\n",
       "        {\n",
       "            \"instruction\": \"Implement input validation and error handling for the API using Pydantic models.\",\n",
       "            \"guidance\": \"Prioritize handling invalid inputs gracefully and providing meaningful error messages. Include validation for each endpoint request body and query parameters.\",\n",
       "            \"context\": null,\n",
       "            \"reason\": false,\n",
       "            \"actions\": false\n",
       "        },\n",
       "        {\n",
       "            \"instruction\": \"Set up logging and monitoring for the REST API to track usage and performance metrics.\",\n",
       "            \"guidance\": \"Integrate logging using a Python logging library and set up basic monitoring. Capture information like response times and error rates.\",\n",
       "            \"context\": \"Current environment supports integration with logging tools such as Loguru and monitoring services like Prometheus.\",\n",
       "            \"reason\": false,\n",
       "            \"actions\": false\n",
       "        },\n",
       "        {\n",
       "            \"instruction\": \"Deploy the API to a cloud provider and ensure it is scalable and available to handle customer service requests.\",\n",
       "            \"guidance\": \"Deploy using a container-based service like Docker and orchestrate with Kubernetes for scalability. Ensure high availability by setting up multiple replicas.\",\n",
       "            \"context\": {\n",
       "                \"system_state\": \"pre-production\",\n",
       "                \"dependencies\": [\n",
       "                    \"Docker\",\n",
       "                    \"Kubernetes\"\n",
       "                ],\n",
       "                \"environment\": \"Cloud provider supports Docker hosting\"\n",
       "            },\n",
       "            \"reason\": false,\n",
       "            \"actions\": false\n",
       "        }\n",
       "    ],\n",
       "    \"reason\": null\n",
       "}\n",
       "```"
      ],
      "text/plain": [
       "<IPython.core.display.Markdown object>"
      ]
     },
     "metadata": {},
     "output_type": "display_data"
    }
   ],
   "source": [
    "# initial step\n",
    "\n",
    "from IPython.display import Markdown\n",
    "\n",
    "display(Markdown(as_readable(result[0], md=True)))"
   ]
  },
  {
   "cell_type": "markdown",
   "metadata": {},
   "source": [
    "(from above plan)\n",
    "\n",
    "\n",
    "\n",
    "Design the architecture of the REST API, specifying the main components such as endpoints, request methods, authentication, and error handling."
   ]
  },
  {
   "cell_type": "code",
   "execution_count": 16,
   "metadata": {},
   "outputs": [
    {
     "data": {
      "text/markdown": [
       "```json\n",
       "{\n",
       "    \"title\": \"REST API Architecture Design for Customer Service System\",\n",
       "    \"motivation\": \"To create a robust and efficient REST API architecture that enhances customer service by automating tasks and ensuring fast, reliable responses to customer queries.\",\n",
       "    \"instruct_models\": [\n",
       "        {\n",
       "            \"instruction\": {\n",
       "                \"endpoints\": [\n",
       "                    {\n",
       "                        \"path\": \"/api/queries\",\n",
       "                        \"methods\": [\n",
       "                            \"POST\",\n",
       "                            \"GET\"\n",
       "                        ],\n",
       "                        \"description\": \"Endpoint for submitting and retrieving customer queries.\"\n",
       "                    },\n",
       "                    {\n",
       "                        \"path\": \"/api/queries/{query_id}\",\n",
       "                        \"methods\": [\n",
       "                            \"GET\",\n",
       "                            \"PUT\",\n",
       "                            \"DELETE\"\n",
       "                        ],\n",
       "                        \"description\": \"Endpoint for accessing, updating, or deleting a specific customer query.\"\n",
       "                    },\n",
       "                    {\n",
       "                        \"path\": \"/api/status/{query_id}\",\n",
       "                        \"methods\": [\n",
       "                            \"GET\"\n",
       "                        ],\n",
       "                        \"description\": \"Endpoint for checking the status of a particular customer query.\"\n",
       "                    },\n",
       "                    {\n",
       "                        \"path\": \"/api/feedback\",\n",
       "                        \"methods\": [\n",
       "                            \"POST\"\n",
       "                        ],\n",
       "                        \"description\": \"Endpoint for submitting customer service feedback.\"\n",
       "                    }\n",
       "                ],\n",
       "                \"authentication\": {\n",
       "                    \"type\": \"JWT\",\n",
       "                    \"scheme\": \"Bearer\",\n",
       "                    \"description\": \"Use JSON Web Tokens for secure API authentication, ensuring secure access to endpoints.\"\n",
       "                },\n",
       "                \"error_handling\": {\n",
       "                    \"strategies\": [\n",
       "                        \"Standardize error response format with HTTP status codes and error messages.\",\n",
       "                        \"Implement global exception handling to capture and log errors effectively.\"\n",
       "                    ]\n",
       "                }\n",
       "            },\n",
       "            \"guidance\": \"Follow RESTful principles for API design to ensure it's stateless, uniform, and adaptable. Leverage secure practices for authentication and error management.\",\n",
       "            \"context\": \"The client seeks a scalable solution that integrates seamlessly into their existing customer support framework, with the ability to handle increasing demands efficiently.\",\n",
       "            \"reason\": false,\n",
       "            \"actions\": false\n",
       "        }\n",
       "    ],\n",
       "    \"reason\": null\n",
       "}\n",
       "```"
      ],
      "text/plain": [
       "<IPython.core.display.Markdown object>"
      ]
     },
     "metadata": {},
     "output_type": "display_data"
    }
   ],
   "source": [
    "display(Markdown(as_readable(result[1], md=True)))"
   ]
  },
  {
   "cell_type": "markdown",
   "metadata": {},
   "source": [
    "Develop the API endpoints for common customer service tasks such as logging a query, status updates, and resolution feedback."
   ]
  },
  {
   "cell_type": "code",
   "execution_count": 17,
   "metadata": {},
   "outputs": [
    {
     "data": {
      "text/markdown": [
       "```json\n",
       "{\n",
       "    \"title\": \"API Endpoint Development for Customer Service System\",\n",
       "    \"motivation\": \"To streamline customer service operations by automating tasks through well-defined API endpoints, enabling efficient query logging, status updates, and feedback collection.\",\n",
       "    \"instruct_models\": [\n",
       "        {\n",
       "            \"instruction\": {\n",
       "                \"endpoints\": [\n",
       "                    {\n",
       "                        \"path\": \"/api/queries\",\n",
       "                        \"method\": \"POST\",\n",
       "                        \"description\": \"Endpoint for logging new customer queries. Accepts customer information and query details.\"\n",
       "                    },\n",
       "                    {\n",
       "                        \"path\": \"/api/status/{query_id}\",\n",
       "                        \"method\": \"GET\",\n",
       "                        \"description\": \"Endpoint for retrieving the status of a specific query using a unique query ID.\"\n",
       "                    },\n",
       "                    {\n",
       "                        \"path\": \"/api/feedback\",\n",
       "                        \"method\": \"POST\",\n",
       "                        \"description\": \"Endpoint for submitting feedback on the resolution of queries, allowing customers to voice their satisfaction or dissatisfaction.\"\n",
       "                    }\n",
       "                ]\n",
       "            },\n",
       "            \"guidance\": \"Utilize FastAPI to efficiently create these endpoints, ensuring proper validation and error handling. Endpoints should return appropriate status codes and messages.\",\n",
       "            \"context\": {\n",
       "                \"dependencies\": [\n",
       "                    \"FastAPI\",\n",
       "                    \"uvicorn\",\n",
       "                    \"pydantic\"\n",
       "                ],\n",
       "                \"system_state\": \"development\",\n",
       "                \"prior_results\": {\n",
       "                    \"feedback_handling\": \"manual\"\n",
       "                }\n",
       "            },\n",
       "            \"reason\": false,\n",
       "            \"actions\": false\n",
       "        }\n",
       "    ],\n",
       "    \"reason\": null\n",
       "}\n",
       "```"
      ],
      "text/plain": [
       "<IPython.core.display.Markdown object>"
      ]
     },
     "metadata": {},
     "output_type": "display_data"
    }
   ],
   "source": [
    "display(Markdown(as_readable(result[2], md=True)))"
   ]
  },
  {
   "cell_type": "markdown",
   "metadata": {},
   "source": [
    "Implement input validation and error handling for the API using Pydantic models."
   ]
  },
  {
   "cell_type": "code",
   "execution_count": 18,
   "metadata": {},
   "outputs": [
    {
     "data": {
      "text/markdown": [
       "```json\n",
       "{\n",
       "    \"title\": \"Input Validation and Error Handling Implementation for API\",\n",
       "    \"motivation\": \"To ensure robust API performance and user satisfaction by incorporating input validation and clear error management, thus preventing incorrect data from impacting the system.\",\n",
       "    \"instruct_models\": [\n",
       "        {\n",
       "            \"instruction\": {\n",
       "                \"input_validation\": {\n",
       "                    \"use_pydantic_models\": true,\n",
       "                    \"models\": [\n",
       "                        {\n",
       "                            \"name\": \"QueryCreateModel\",\n",
       "                            \"fields\": {\n",
       "                                \"customer_name\": {\n",
       "                                    \"type\": \"str\",\n",
       "                                    \"constraints\": {\n",
       "                                        \"min_length\": 1\n",
       "                                    }\n",
       "                                },\n",
       "                                \"query_details\": {\n",
       "                                    \"type\": \"str\",\n",
       "                                    \"constraints\": {\n",
       "                                        \"min_length\": 5\n",
       "                                    }\n",
       "                                },\n",
       "                                \"contact_email\": {\n",
       "                                    \"type\": \"str\",\n",
       "                                    \"format\": \"email\"\n",
       "                                }\n",
       "                            }\n",
       "                        },\n",
       "                        {\n",
       "                            \"name\": \"FeedbackModel\",\n",
       "                            \"fields\": {\n",
       "                                \"query_id\": {\n",
       "                                    \"type\": \"int\"\n",
       "                                },\n",
       "                                \"rating\": {\n",
       "                                    \"type\": \"int\",\n",
       "                                    \"constraints\": {\n",
       "                                        \"min_value\": 1,\n",
       "                                        \"max_value\": 5\n",
       "                                    }\n",
       "                                },\n",
       "                                \"comments\": {\n",
       "                                    \"type\": \"str\",\n",
       "                                    \"constraints\": {\n",
       "                                        \"max_length\": 500\n",
       "                                    }\n",
       "                                }\n",
       "                            }\n",
       "                        }\n",
       "                    ]\n",
       "                },\n",
       "                \"error_handling\": {\n",
       "                    \"strategies\": [\n",
       "                        \"Return a JSON response with a detailed message and applicable status codes (e.g., 400 for validation errors).\",\n",
       "                        \"Log errors with a Python logging library for further analysis.\",\n",
       "                        \"Implement global exception handlers to manage unexpected errors gracefully.\"\n",
       "                    ]\n",
       "                }\n",
       "            },\n",
       "            \"guidance\": \"Focus on clear, actionable error messages that help API users correct their requests effortlessly. Ensure Pydantic models perform validations efficiently before processing the requests.\",\n",
       "            \"context\": null,\n",
       "            \"reason\": false,\n",
       "            \"actions\": false\n",
       "        }\n",
       "    ],\n",
       "    \"reason\": null\n",
       "}\n",
       "```"
      ],
      "text/plain": [
       "<IPython.core.display.Markdown object>"
      ]
     },
     "metadata": {},
     "output_type": "display_data"
    }
   ],
   "source": [
    "display(Markdown(as_readable(result[3], md=True)))"
   ]
  },
  {
   "cell_type": "markdown",
   "metadata": {},
   "source": [
    "Set up logging and monitoring for the REST API to track usage and performance metrics."
   ]
  },
  {
   "cell_type": "code",
   "execution_count": 19,
   "metadata": {},
   "outputs": [
    {
     "data": {
      "text/markdown": [
       "```json\n",
       "{\n",
       "    \"title\": \"Logging and Monitoring Setup for REST API\",\n",
       "    \"motivation\": \"To ensure the REST API's reliability and efficiency by monitoring its performance, capturing vital usage data, and logging key events and errors.\",\n",
       "    \"instruct_models\": [\n",
       "        {\n",
       "            \"instruction\": {\n",
       "                \"logging_setup\": {\n",
       "                    \"tool\": \"Loguru\",\n",
       "                    \"configuration\": {\n",
       "                        \"log_format\": \"{time} {level} {message}\",\n",
       "                        \"rotation\": \"1 MB\",\n",
       "                        \"retention\": \"10 days\",\n",
       "                        \"level\": \"INFO\"\n",
       "                    },\n",
       "                    \"log_integration\": \"Integrate Loguru into FastAPI to log API requests, responses, and errors effectively.\"\n",
       "                },\n",
       "                \"monitoring_setup\": {\n",
       "                    \"tool\": \"Prometheus\",\n",
       "                    \"metrics\": [\n",
       "                        {\n",
       "                            \"name\": \"http_requests_total\",\n",
       "                            \"description\": \"Total number of HTTP requests received\"\n",
       "                        },\n",
       "                        {\n",
       "                            \"name\": \"http_request_duration_seconds\",\n",
       "                            \"description\": \"Duration of HTTP requests\"\n",
       "                        },\n",
       "                        {\n",
       "                            \"name\": \"http_errors_total\",\n",
       "                            \"description\": \"Total number of HTTP response errors\"\n",
       "                        }\n",
       "                    ],\n",
       "                    \"integration_details\": \"Integrate Prometheus to track metrics like request counts, response times, and error rates.\"\n",
       "                }\n",
       "            },\n",
       "            \"guidance\": \"Ensure logs provide actionable insights and are comprehensive enough to trace issues. Use Prometheus for real-time monitoring and alerting.\",\n",
       "            \"context\": {\n",
       "                \"environment\": \"Current development environment ready for Loguru and Prometheus integration.\"\n",
       "            },\n",
       "            \"reason\": false,\n",
       "            \"actions\": false\n",
       "        }\n",
       "    ],\n",
       "    \"reason\": null\n",
       "}\n",
       "```"
      ],
      "text/plain": [
       "<IPython.core.display.Markdown object>"
      ]
     },
     "metadata": {},
     "output_type": "display_data"
    }
   ],
   "source": [
    "display(Markdown(as_readable(result[4], md=True)))"
   ]
  },
  {
   "cell_type": "markdown",
   "metadata": {},
   "source": [
    "Deploy the API to a cloud provider and ensure it is scalable and available to handle customer service requests."
   ]
  },
  {
   "cell_type": "code",
   "execution_count": 29,
   "metadata": {},
   "outputs": [
    {
     "data": {
      "text/markdown": [
       "```json\n",
       "{\n",
       "    \"title\": \"Deployment of REST API to Cloud Provider for Scalability and Availability\",\n",
       "    \"motivation\": \"To ensure the REST API can handle increasing customer service requests by leveraging cloud infrastructure and container orchestration for high scalability and availability.\",\n",
       "    \"instruct_models\": [\n",
       "        {\n",
       "            \"instruction\": {\n",
       "                \"deployment_steps\": [\n",
       "                    {\n",
       "                        \"step\": \"Containerization\",\n",
       "                        \"description\": \"Create a Docker image for the API by writing a Dockerfile that defines the runtime environment and dependencies.\"\n",
       "                    },\n",
       "                    {\n",
       "                        \"step\": \"Docker Push\",\n",
       "                        \"description\": \"Push the Docker image to a container registry, such as Docker Hub or a private registry, to make it available for deployment.\"\n",
       "                    },\n",
       "                    {\n",
       "                        \"step\": \"Kubernetes Deployment\",\n",
       "                        \"description\": \"Set up a Kubernetes deployment using the pushed Docker image. Define deployment YAML files that specify replicas, pods, and service configurations.\",\n",
       "                        \"replicas\": 3\n",
       "                    },\n",
       "                    {\n",
       "                        \"step\": \"Load Balancing\",\n",
       "                        \"description\": \"Integrate a load balancer within the Kubernetes cluster to ensure even distribution of incoming requests across all replicas.\"\n",
       "                    },\n",
       "                    {\n",
       "                        \"step\": \"Resource Management\",\n",
       "                        \"description\": \"Configure Kubernetes to manage resources efficiently by setting resource requests and limits, ensuring optimal use of cloud resources.\"\n",
       "                    }\n",
       "                ]\n",
       "            },\n",
       "            \"guidance\": \"Utilize best practices for cloud deployment to ensure uptime and performance. Regularly monitor the deployment and optimize as necessary.\",\n",
       "            \"context\": {\n",
       "                \"environment\": \"pre-production\",\n",
       "                \"dependencies\": [\n",
       "                    \"Docker\",\n",
       "                    \"Kubernetes\"\n",
       "                ],\n",
       "                \"cloud_provider_support\": \"Cloud provider supports Docker hosting\"\n",
       "            },\n",
       "            \"reason\": false,\n",
       "            \"actions\": false\n",
       "        }\n",
       "    ],\n",
       "    \"reason\": null\n",
       "}\n",
       "```"
      ],
      "text/plain": [
       "<IPython.core.display.Markdown object>"
      ]
     },
     "metadata": {},
     "output_type": "display_data"
    }
   ],
   "source": [
    "display(Markdown(as_readable(result[5], md=True)))"
   ]
  },
  {
   "cell_type": "code",
   "execution_count": null,
   "metadata": {},
   "outputs": [],
   "source": []
  }
 ],
 "metadata": {
  "kernelspec": {
   "display_name": ".venv",
   "language": "python",
   "name": "python3"
  },
  "language_info": {
   "codemirror_mode": {
    "name": "ipython",
    "version": 3
   },
   "file_extension": ".py",
   "mimetype": "text/x-python",
   "name": "python",
   "nbconvert_exporter": "python",
   "pygments_lexer": "ipython3",
   "version": "3.12.6"
  }
 },
 "nbformat": 4,
 "nbformat_minor": 2
}
