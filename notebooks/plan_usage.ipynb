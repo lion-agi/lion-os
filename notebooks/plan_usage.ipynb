{
 "cells": [
  {
   "cell_type": "markdown",
   "metadata": {},
   "source": [
    "# Plan Operation Usage Patterns\n",
    "\n",
    "This notebook demonstrates different ways to use the plan operation in Lion."
   ]
  },
  {
   "cell_type": "code",
   "execution_count": null,
   "metadata": {},
   "outputs": [],
   "source": [
    "from lion.operations import plan\n",
    "from lion import iModel"
   ]
  },
  {
   "cell_type": "markdown",
   "metadata": {},
   "source": [
    "## Basic Usage\n",
    "Simple example of creating and executing a plan"
   ]
  },
  {
   "cell_type": "code",
   "execution_count": null,
   "metadata": {},
   "outputs": [],
   "source": [
    "imodel = iModel(\"openai/gpt-4\")\n",
    "\n",
    "instruct = {\n",
    "    \"instruction\": \"Build a REST API for a blog platform\",\n",
    "    \"context\": \"Using Python and FastAPI\"\n",
    "}\n",
    "\n",
    "result = await plan(\n",
    "    instruct=instruct,\n",
    "    imodel=imodel,\n",
    "    num_steps=5,\n",
    "    auto_run=True\n",
    ")"
   ]
  },
  {
   "cell_type": "markdown",
   "metadata": {},
   "source": [
    "## Custom Response Model\n",
    "Using a custom model to structure the plan responses"
   ]
  },
  {
   "cell_type": "code",
   "execution_count": null,
   "metadata": {},
   "outputs": [],
   "source": [
    "from pydantic import BaseModel\n",
    "\n",
    "class APIStep(BaseModel):\n",
    "    step_name: str\n",
    "    description: str\n",
    "    code_snippet: str | None = None\n",
    "    dependencies: list[str] = []\n",
    "\n",
    "result = await plan(\n",
    "    instruct=instruct,\n",
    "    imodel=imodel,\n",
    "    num_steps=3,\n",
    "    operative_model=APIStep\n",
    ")"
   ]
  },
  {
   "cell_type": "markdown",
   "metadata": {},
   "source": [
    "## Sequential Execution with Context\n",
    "Demonstrates how each step builds on previous results"
   ]
  },
  {
   "cell_type": "code",
   "execution_count": null,
   "metadata": {},
   "outputs": [],
   "source": [
    "from lion.core.session import Session\n",
    "\n",
    "session = Session()\n",
    "result, session = await plan(\n",
    "    instruct={\n",
    "        \"instruction\": \"Design a database schema for an e-commerce platform\",\n",
    "        \"context\": {\"requirements\": [\"users\", \"products\", \"orders\"]}\n",
    "    },\n",
    "    num_steps=4,\n",
    "    session=session,\n",
    "    return_session=True\n",
    ")\n",
    "\n",
    "# Access full conversation history\n",
    "print(session.messages)"
   ]
  }
 ],
 "metadata": {
  "kernelspec": {
   "display_name": "Python 3",
   "language": "python",
   "name": "python3"
  }
 },
 "nbformat": 4,
 "nbformat_minor": 2
}
