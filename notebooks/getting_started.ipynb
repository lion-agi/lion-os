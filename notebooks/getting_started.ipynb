{
 "cells": [
  {
   "cell_type": "code",
   "execution_count": 1,
   "metadata": {},
   "outputs": [],
   "source": [
    "instruction = \"Concisely, Give me some ideas on fastapi coding questions\"\n",
    "context = \"we are hiring software engineers\""
   ]
  },
  {
   "cell_type": "code",
   "execution_count": 2,
   "metadata": {},
   "outputs": [
    {
     "name": "stdout",
     "output_type": "stream",
     "text": [
      "Certainly! Here are some concise FastAPI coding questions that you can use to assess the skills of software engineer candidates:\n",
      "\n",
      "1. **Basic Endpoint Creation:**\n",
      "   - Write a simple FastAPI application with a single GET endpoint that returns a JSON response with a message \"Hello, World!\".\n",
      "\n",
      "2. **Path and Query Parameters:**\n",
      "   - Create an endpoint that accepts a path parameter for a username and a query parameter for age, and returns a greeting message incorporating both.\n",
      "\n",
      "3. **Data Validation with Pydantic:**\n",
      "   - Define a Pydantic model for a user with fields like `name`, `email`, and `age`. Create a POST endpoint that accepts this model and returns a success message if the data is valid.\n",
      "\n",
      "4. **Dependency Injection:**\n",
      "   - Implement a FastAPI dependency that logs the request method and path. Use this dependency in an endpoint and demonstrate its functionality.\n",
      "\n",
      "5. **Error Handling:**\n",
      "   - Create an endpoint that raises an HTTPException with a 404 status code if a requested item is not found in a predefined list.\n",
      "\n",
      "6. **Asynchronous Programming:**\n",
      "   - Write an asynchronous endpoint that simulates a long-running task using `asyncio.sleep` and returns a completion message.\n",
      "\n",
      "7. **Middleware Implementation:**\n",
      "   - Implement a simple middleware that adds a custom header to all responses and demonstrate its effect on an endpoint.\n",
      "\n",
      "8. **File Upload:**\n",
      "   - Create an endpoint that accepts a file upload and saves it to a specified directory on the server.\n",
      "\n",
      "9. **JWT Authentication:**\n",
      "   - Implement a basic JWT authentication system with endpoints for user login and protected resource access.\n",
      "\n",
      "10. **Database Integration:**\n",
      "    - Set up a FastAPI application with SQLAlchemy to perform basic CRUD operations on a SQLite database.\n",
      "\n",
      "These questions cover a range of FastAPI features and can help evaluate a candidate's understanding of the framework and their ability to implement common functionalities.\n"
     ]
    }
   ],
   "source": [
    "from lion import iModel, Branch\n",
    "\n",
    "imodel = iModel(\n",
    "    model=\"openai/gpt-4o\",\n",
    "    api_key=\"OPENAI_API_KEY\",\n",
    "    temperature=0.2,\n",
    ")\n",
    "\n",
    "# create a branch\n",
    "branch = Branch(imodel=imodel)\n",
    "\n",
    "# communicate with AI models\n",
    "result = await branch.communicate(instruction=instruction, context=context)\n",
    "\n",
    "print(result)"
   ]
  },
  {
   "cell_type": "code",
   "execution_count": 3,
   "metadata": {},
   "outputs": [
    {
     "name": "stdout",
     "output_type": "stream",
     "text": [
      "[CodingQuestion(question=\"Write a FastAPI application with a GET endpoint that returns a JSON response with a message 'Hello, World!'.\", evaluation_criteria='Check for correct FastAPI setup, endpoint definition, and JSON response formatting.'), CodingQuestion(question='Create an endpoint that accepts a path parameter for a username and a query parameter for age, and returns a greeting message incorporating both.', evaluation_criteria='Evaluate the use of path and query parameters, and the ability to construct a dynamic response.'), CodingQuestion(question=\"Define a Pydantic model for a user with fields like 'name', 'email', and 'age'. Create a POST endpoint that accepts this model and returns a success message if the data is valid.\", evaluation_criteria='Assess the understanding of Pydantic models, data validation, and POST request handling.'), CodingQuestion(question='Implement a FastAPI dependency that logs the request method and path. Use this dependency in an endpoint and demonstrate its functionality.', evaluation_criteria='Check the implementation of dependencies and logging functionality within FastAPI.'), CodingQuestion(question='Create an endpoint that raises an HTTPException with a 404 status code if a requested item is not found in a predefined list.', evaluation_criteria='Evaluate error handling and the use of HTTPException in FastAPI.'), CodingQuestion(question='Write an asynchronous endpoint that simulates a long-running task using asyncio.sleep and returns a completion message.', evaluation_criteria=\"Assess the candidate's understanding of asynchronous programming in FastAPI.\"), CodingQuestion(question='Implement a simple middleware that adds a custom header to all responses and demonstrate its effect on an endpoint.', evaluation_criteria='Check the implementation of middleware and its integration with FastAPI responses.'), CodingQuestion(question='Create an endpoint that accepts a file upload and saves it to a specified directory on the server.', evaluation_criteria='Evaluate file handling and upload functionality in FastAPI.'), CodingQuestion(question='Implement a basic JWT authentication system with endpoints for user login and protected resource access.', evaluation_criteria='Assess the understanding of authentication mechanisms and JWT implementation in FastAPI.'), CodingQuestion(question='Set up a FastAPI application with SQLAlchemy to perform basic CRUD operations on a SQLite database.', evaluation_criteria='Evaluate database integration, ORM usage, and CRUD operation implementation.')]\n"
     ]
    }
   ],
   "source": [
    "from pydantic import BaseModel\n",
    "\n",
    "\n",
    "class CodingQuestion(BaseModel):\n",
    "    question: str\n",
    "    evaluation_criteria: str\n",
    "\n",
    "\n",
    "result = await branch.operate(\n",
    "    instruction=instruction,\n",
    "    context=context,\n",
    "    operative_model=CodingQuestion,\n",
    ")\n",
    "\n",
    "print(result)"
   ]
  },
  {
   "cell_type": "code",
   "execution_count": 4,
   "metadata": {},
   "outputs": [
    {
     "data": {
      "text/plain": [
       "[CodingQuestion(question=\"Write a FastAPI application with a GET endpoint that returns a JSON response with a message 'Hello, World!'.\", evaluation_criteria='Check for correct FastAPI setup, endpoint definition, and JSON response formatting.'),\n",
       " CodingQuestion(question='Create an endpoint that accepts a path parameter for a username and a query parameter for age, and returns a greeting message incorporating both.', evaluation_criteria='Evaluate the use of path and query parameters, and the ability to construct a dynamic response.'),\n",
       " CodingQuestion(question=\"Define a Pydantic model for a user with fields like 'name', 'email', and 'age'. Create a POST endpoint that accepts this model and returns a success message if the data is valid.\", evaluation_criteria='Assess the understanding of Pydantic models, data validation, and POST request handling.'),\n",
       " CodingQuestion(question='Implement a FastAPI dependency that logs the request method and path. Use this dependency in an endpoint and demonstrate its functionality.', evaluation_criteria='Check the implementation of dependencies and logging functionality within FastAPI.'),\n",
       " CodingQuestion(question='Create an endpoint that raises an HTTPException with a 404 status code if a requested item is not found in a predefined list.', evaluation_criteria='Evaluate error handling and the use of HTTPException in FastAPI.'),\n",
       " CodingQuestion(question='Write an asynchronous endpoint that simulates a long-running task using asyncio.sleep and returns a completion message.', evaluation_criteria=\"Assess the candidate's understanding of asynchronous programming in FastAPI.\"),\n",
       " CodingQuestion(question='Implement a simple middleware that adds a custom header to all responses and demonstrate its effect on an endpoint.', evaluation_criteria='Check the implementation of middleware and its integration with FastAPI responses.'),\n",
       " CodingQuestion(question='Create an endpoint that accepts a file upload and saves it to a specified directory on the server.', evaluation_criteria='Evaluate file handling and upload functionality in FastAPI.'),\n",
       " CodingQuestion(question='Implement a basic JWT authentication system with endpoints for user login and protected resource access.', evaluation_criteria='Assess the understanding of authentication mechanisms and JWT implementation in FastAPI.'),\n",
       " CodingQuestion(question='Set up a FastAPI application with SQLAlchemy to perform basic CRUD operations on a SQLite database.', evaluation_criteria='Evaluate database integration, ORM usage, and CRUD operation implementation.')]"
      ]
     },
     "execution_count": 4,
     "metadata": {},
     "output_type": "execute_result"
    }
   ],
   "source": [
    "result"
   ]
  },
  {
   "cell_type": "code",
   "execution_count": 5,
   "metadata": {},
   "outputs": [],
   "source": [
    "from lion.operations import brainstorm\n",
    "\n",
    "instruct = {\n",
    "    \"instruction\": instruction,\n",
    "    \"context\": context,\n",
    "}\n",
    "\n",
    "result = await brainstorm(\n",
    "    instruct=instruct,\n",
    "    imodel=imodel,\n",
    "    num_instruct=3,\n",
    "    operative_model=CodingQuestion,\n",
    "    auto_run=True,\n",
    "    invoke_action=False,\n",
    ")"
   ]
  },
  {
   "cell_type": "code",
   "execution_count": 6,
   "metadata": {},
   "outputs": [
    {
     "name": "stdout",
     "output_type": "stream",
     "text": [
      "Number of ideas:  6\n",
      "<class 'lion.core.models.CodingQuestion'>\n",
      "{'question': \"Develop a FastAPI endpoint '/user' that processes a POST request with a JSON payload. The payload should include 'first_name', 'last_name', and 'birth_year'. The endpoint must return a JSON response containing 'full_name' and 'age'.\", 'evaluation_criteria': \"The implementation should correctly use Pydantic models for input validation, handle errors for missing or invalid data gracefully, and accurately calculate the user's age based on the current year (2023). The code should be well-structured, readable, and follow FastAPI best practices.\", 'instruct_models': [{'instruction': \"Implement a FastAPI endpoint '/user' that accepts a POST request with a JSON payload containing 'first_name', 'last_name', and 'birth_year'. The endpoint should return a JSON response with 'full_name' and 'age'.\", 'guidance': 'Use Pydantic models to validate the input data. Ensure the endpoint handles errors gracefully, such as missing or invalid data. Calculate the age based on the current year, 2023.', 'context': \"The current year is 2023. Assume the input JSON payload will always contain 'first_name', 'last_name', and 'birth_year'.\", 'reason': False, 'actions': False}]}\n"
     ]
    }
   ],
   "source": [
    "print(\"Number of ideas: \", len(result))\n",
    "print(type(result[0]))\n",
    "print(result[0].model_dump())"
   ]
  },
  {
   "cell_type": "code",
   "execution_count": 7,
   "metadata": {},
   "outputs": [
    {
     "name": "stdout",
     "output_type": "stream",
     "text": [
      "Number of ideas for next step:  6\n",
      "<class 'lion.protocols.operatives.instruct.InstructModel'>\n",
      "{'instruction': \"Implement a FastAPI endpoint '/user' that accepts a POST request with a JSON payload containing 'first_name', 'last_name', and 'birth_year'. The endpoint should return a JSON response with 'full_name' and 'age'.\", 'guidance': 'Use Pydantic models to validate the input data. Ensure the endpoint handles errors gracefully, such as missing or invalid data. Calculate the age based on the current year, 2023.', 'context': \"The current year is 2023. Assume the input JSON payload will always contain 'first_name', 'last_name', and 'birth_year'.\", 'reason': False, 'actions': False}\n"
     ]
    }
   ],
   "source": [
    "instruct_models = []\n",
    "for i in result:\n",
    "    if i is not None:\n",
    "        instruct_models.extend(getattr(i, \"instruct_models\", None) or [])\n",
    "\n",
    "print(\"Number of ideas for next step: \", len(instruct_models))\n",
    "print(type(instruct_models[0]))\n",
    "print(instruct_models[0].model_dump())"
   ]
  }
 ],
 "metadata": {
  "kernelspec": {
   "display_name": ".venv",
   "language": "python",
   "name": "python3"
  },
  "language_info": {
   "codemirror_mode": {
    "name": "ipython",
    "version": 3
   },
   "file_extension": ".py",
   "mimetype": "text/x-python",
   "name": "python",
   "nbconvert_exporter": "python",
   "pygments_lexer": "ipython3",
   "version": "3.12.6"
  }
 },
 "nbformat": 4,
 "nbformat_minor": 2
}
